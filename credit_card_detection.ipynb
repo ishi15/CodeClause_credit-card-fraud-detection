{
  "nbformat": 4,
  "nbformat_minor": 0,
  "metadata": {
    "colab": {
      "provenance": [],
      "authorship_tag": "ABX9TyM/odUqwy2oNqc0EmVlTudQ",
      "include_colab_link": true
    },
    "kernelspec": {
      "name": "python3",
      "display_name": "Python 3"
    },
    "language_info": {
      "name": "python"
    }
  },
  "cells": [
    {
      "cell_type": "markdown",
      "metadata": {
        "id": "view-in-github",
        "colab_type": "text"
      },
      "source": [
        "<a href=\"https://colab.research.google.com/github/ishi15/CodeClause_credit-card-fraud-detection/blob/main/credit_card_detection.ipynb\" target=\"_parent\"><img src=\"https://colab.research.google.com/assets/colab-badge.svg\" alt=\"Open In Colab\"/></a>"
      ]
    },
    {
      "cell_type": "markdown",
      "source": [
        "importing libraries"
      ],
      "metadata": {
        "id": "5N7KhIPb4RFs"
      }
    },
    {
      "cell_type": "code",
      "source": [
        "import numpy as np\n",
        "import pandas as pd\n",
        "from sklearn.model_selection import train_test_split\n",
        "from sklearn.linear_model import LogisticRegression\n",
        "from sklearn.metrics import accuracy_score"
      ],
      "metadata": {
        "id": "kEpGFIRE4L1a"
      },
      "execution_count": null,
      "outputs": []
    },
    {
      "cell_type": "markdown",
      "source": [
        "loading data set (from kaggle)\n"
      ],
      "metadata": {
        "id": "xJ9t8QOA4uRl"
      }
    },
    {
      "cell_type": "code",
      "source": [
        "df_credit= pd.read_csv('/content/creditcard.csv')"
      ],
      "metadata": {
        "colab": {
          "base_uri": "https://localhost:8080/"
        },
        "id": "bb97K4a_4shZ",
        "outputId": "db5d2fa1-9c0d-44da-d3e0-63c16aac85dd"
      },
      "execution_count": null,
      "outputs": [
        {
          "output_type": "stream",
          "name": "stderr",
          "text": [
            "<ipython-input-6-f0ee8be0f95d>:1: DtypeWarning: Columns (22) have mixed types. Specify dtype option on import or set low_memory=False.\n",
            "  df_credit= pd.read_csv('/content/creditcard.csv')\n"
          ]
        }
      ]
    },
    {
      "cell_type": "markdown",
      "source": [
        "data pre-processing"
      ],
      "metadata": {
        "id": "dCu9J-9I6Lwq"
      }
    },
    {
      "cell_type": "code",
      "source": [
        "df_credit"
      ],
      "metadata": {
        "colab": {
          "base_uri": "https://localhost:8080/",
          "height": 488
        },
        "id": "eYPhuUfj6O13",
        "outputId": "a9b991fb-b593-4b1d-ee83-add77811476e"
      },
      "execution_count": null,
      "outputs": [
        {
          "output_type": "execute_result",
          "data": {
            "text/plain": [
              "        Time        V1         V2        V3        V4        V5        V6  \\\n",
              "0          0 -1.359807  -0.072781  2.536347  1.378155 -0.338321  0.462388   \n",
              "1          0  1.191857   0.266151  0.166480  0.448154  0.060018 -0.082361   \n",
              "2          1 -1.358354  -1.340163  1.773209  0.379780 -0.503198  1.800499   \n",
              "3          1 -0.966272  -0.185226  1.792993 -0.863291 -0.010309  1.247203   \n",
              "4          2 -1.158233   0.877737  1.548718  0.403034 -0.407193  0.095921   \n",
              "...      ...       ...        ...       ...       ...       ...       ...   \n",
              "33755  37372  0.597155  -1.457940  0.648770 -1.154721 -1.384692 -0.114190   \n",
              "33756  37373 -7.504323 -15.633772 -4.215051  1.507090 -5.412604  3.243205   \n",
              "33757  37373  1.242547   0.010297 -1.206012  0.083576  2.171891  3.391877   \n",
              "33758  37373 -1.065865   1.177477  2.083773  1.296198  0.564073  0.295974   \n",
              "33759  37373 -0.302250   0.828254 -0.311542 -1.108255  2.533421  3.274040   \n",
              "\n",
              "             V7        V8        V9  ...       V21                  V22  \\\n",
              "0      0.239599  0.098698  0.363787  ... -0.018307             0.277838   \n",
              "1     -0.078803  0.085102 -0.255425  ... -0.225775            -0.638672   \n",
              "2      0.791461  0.247676 -1.514654  ...  0.247998             0.771679   \n",
              "3      0.237609  0.377436 -1.387024  ... -0.108300             0.005274   \n",
              "4      0.592941 -0.270533  0.817739  ... -0.009431             0.798278   \n",
              "...         ...       ...       ...  ...       ...                  ...   \n",
              "33755 -0.353940  0.077492  1.434997  ...  0.266727    0.391858868587825   \n",
              "33756  4.422388 -0.423582  0.392031  ...  2.323590    -2.53917289990935   \n",
              "33757 -0.417041  0.793206 -0.149793  ...  0.031822  -0.0638428726104072   \n",
              "33758  0.656915  0.158767 -1.006866  ... -0.157601   -0.518893364163089   \n",
              "33759  0.134693  0.933364 -0.505897  ... -0.314500                    -   \n",
              "\n",
              "            V23       V24       V25       V26       V27       V28   Amount  \\\n",
              "0     -0.110474  0.066928  0.128539 -0.189115  0.133558 -0.021053   149.62   \n",
              "1      0.101288 -0.339846  0.167170  0.125895 -0.008983  0.014724     2.69   \n",
              "2      0.909412 -0.689281 -0.327642 -0.139097 -0.055353 -0.059752   378.66   \n",
              "3     -0.190321 -1.175575  0.647376 -0.221929  0.062723  0.061458   123.50   \n",
              "4     -0.137458  0.141267 -0.206010  0.502292  0.219422  0.215153    69.99   \n",
              "...         ...       ...       ...       ...       ...       ...      ...   \n",
              "33755 -0.248812  0.335329  0.164725 -0.063462  0.010369  0.068737   300.00   \n",
              "33756 -3.736852 -0.792271 -1.694790 -0.463947 -0.703180  0.780931  4476.72   \n",
              "33757 -0.166334  1.008827  0.824605 -0.268009  0.016069  0.019513    28.56   \n",
              "33758 -0.140236 -0.022273  0.117122 -0.358995 -0.201863  0.088919     0.00   \n",
              "33759       NaN       NaN       NaN       NaN       NaN       NaN      NaN   \n",
              "\n",
              "       Class  \n",
              "0        0.0  \n",
              "1        0.0  \n",
              "2        0.0  \n",
              "3        0.0  \n",
              "4        0.0  \n",
              "...      ...  \n",
              "33755    0.0  \n",
              "33756    0.0  \n",
              "33757    0.0  \n",
              "33758    0.0  \n",
              "33759    NaN  \n",
              "\n",
              "[33760 rows x 31 columns]"
            ],
            "text/html": [
              "\n",
              "  <div id=\"df-1c102b6f-70ee-4d4a-8611-d3e40618c430\">\n",
              "    <div class=\"colab-df-container\">\n",
              "      <div>\n",
              "<style scoped>\n",
              "    .dataframe tbody tr th:only-of-type {\n",
              "        vertical-align: middle;\n",
              "    }\n",
              "\n",
              "    .dataframe tbody tr th {\n",
              "        vertical-align: top;\n",
              "    }\n",
              "\n",
              "    .dataframe thead th {\n",
              "        text-align: right;\n",
              "    }\n",
              "</style>\n",
              "<table border=\"1\" class=\"dataframe\">\n",
              "  <thead>\n",
              "    <tr style=\"text-align: right;\">\n",
              "      <th></th>\n",
              "      <th>Time</th>\n",
              "      <th>V1</th>\n",
              "      <th>V2</th>\n",
              "      <th>V3</th>\n",
              "      <th>V4</th>\n",
              "      <th>V5</th>\n",
              "      <th>V6</th>\n",
              "      <th>V7</th>\n",
              "      <th>V8</th>\n",
              "      <th>V9</th>\n",
              "      <th>...</th>\n",
              "      <th>V21</th>\n",
              "      <th>V22</th>\n",
              "      <th>V23</th>\n",
              "      <th>V24</th>\n",
              "      <th>V25</th>\n",
              "      <th>V26</th>\n",
              "      <th>V27</th>\n",
              "      <th>V28</th>\n",
              "      <th>Amount</th>\n",
              "      <th>Class</th>\n",
              "    </tr>\n",
              "  </thead>\n",
              "  <tbody>\n",
              "    <tr>\n",
              "      <th>0</th>\n",
              "      <td>0</td>\n",
              "      <td>-1.359807</td>\n",
              "      <td>-0.072781</td>\n",
              "      <td>2.536347</td>\n",
              "      <td>1.378155</td>\n",
              "      <td>-0.338321</td>\n",
              "      <td>0.462388</td>\n",
              "      <td>0.239599</td>\n",
              "      <td>0.098698</td>\n",
              "      <td>0.363787</td>\n",
              "      <td>...</td>\n",
              "      <td>-0.018307</td>\n",
              "      <td>0.277838</td>\n",
              "      <td>-0.110474</td>\n",
              "      <td>0.066928</td>\n",
              "      <td>0.128539</td>\n",
              "      <td>-0.189115</td>\n",
              "      <td>0.133558</td>\n",
              "      <td>-0.021053</td>\n",
              "      <td>149.62</td>\n",
              "      <td>0.0</td>\n",
              "    </tr>\n",
              "    <tr>\n",
              "      <th>1</th>\n",
              "      <td>0</td>\n",
              "      <td>1.191857</td>\n",
              "      <td>0.266151</td>\n",
              "      <td>0.166480</td>\n",
              "      <td>0.448154</td>\n",
              "      <td>0.060018</td>\n",
              "      <td>-0.082361</td>\n",
              "      <td>-0.078803</td>\n",
              "      <td>0.085102</td>\n",
              "      <td>-0.255425</td>\n",
              "      <td>...</td>\n",
              "      <td>-0.225775</td>\n",
              "      <td>-0.638672</td>\n",
              "      <td>0.101288</td>\n",
              "      <td>-0.339846</td>\n",
              "      <td>0.167170</td>\n",
              "      <td>0.125895</td>\n",
              "      <td>-0.008983</td>\n",
              "      <td>0.014724</td>\n",
              "      <td>2.69</td>\n",
              "      <td>0.0</td>\n",
              "    </tr>\n",
              "    <tr>\n",
              "      <th>2</th>\n",
              "      <td>1</td>\n",
              "      <td>-1.358354</td>\n",
              "      <td>-1.340163</td>\n",
              "      <td>1.773209</td>\n",
              "      <td>0.379780</td>\n",
              "      <td>-0.503198</td>\n",
              "      <td>1.800499</td>\n",
              "      <td>0.791461</td>\n",
              "      <td>0.247676</td>\n",
              "      <td>-1.514654</td>\n",
              "      <td>...</td>\n",
              "      <td>0.247998</td>\n",
              "      <td>0.771679</td>\n",
              "      <td>0.909412</td>\n",
              "      <td>-0.689281</td>\n",
              "      <td>-0.327642</td>\n",
              "      <td>-0.139097</td>\n",
              "      <td>-0.055353</td>\n",
              "      <td>-0.059752</td>\n",
              "      <td>378.66</td>\n",
              "      <td>0.0</td>\n",
              "    </tr>\n",
              "    <tr>\n",
              "      <th>3</th>\n",
              "      <td>1</td>\n",
              "      <td>-0.966272</td>\n",
              "      <td>-0.185226</td>\n",
              "      <td>1.792993</td>\n",
              "      <td>-0.863291</td>\n",
              "      <td>-0.010309</td>\n",
              "      <td>1.247203</td>\n",
              "      <td>0.237609</td>\n",
              "      <td>0.377436</td>\n",
              "      <td>-1.387024</td>\n",
              "      <td>...</td>\n",
              "      <td>-0.108300</td>\n",
              "      <td>0.005274</td>\n",
              "      <td>-0.190321</td>\n",
              "      <td>-1.175575</td>\n",
              "      <td>0.647376</td>\n",
              "      <td>-0.221929</td>\n",
              "      <td>0.062723</td>\n",
              "      <td>0.061458</td>\n",
              "      <td>123.50</td>\n",
              "      <td>0.0</td>\n",
              "    </tr>\n",
              "    <tr>\n",
              "      <th>4</th>\n",
              "      <td>2</td>\n",
              "      <td>-1.158233</td>\n",
              "      <td>0.877737</td>\n",
              "      <td>1.548718</td>\n",
              "      <td>0.403034</td>\n",
              "      <td>-0.407193</td>\n",
              "      <td>0.095921</td>\n",
              "      <td>0.592941</td>\n",
              "      <td>-0.270533</td>\n",
              "      <td>0.817739</td>\n",
              "      <td>...</td>\n",
              "      <td>-0.009431</td>\n",
              "      <td>0.798278</td>\n",
              "      <td>-0.137458</td>\n",
              "      <td>0.141267</td>\n",
              "      <td>-0.206010</td>\n",
              "      <td>0.502292</td>\n",
              "      <td>0.219422</td>\n",
              "      <td>0.215153</td>\n",
              "      <td>69.99</td>\n",
              "      <td>0.0</td>\n",
              "    </tr>\n",
              "    <tr>\n",
              "      <th>...</th>\n",
              "      <td>...</td>\n",
              "      <td>...</td>\n",
              "      <td>...</td>\n",
              "      <td>...</td>\n",
              "      <td>...</td>\n",
              "      <td>...</td>\n",
              "      <td>...</td>\n",
              "      <td>...</td>\n",
              "      <td>...</td>\n",
              "      <td>...</td>\n",
              "      <td>...</td>\n",
              "      <td>...</td>\n",
              "      <td>...</td>\n",
              "      <td>...</td>\n",
              "      <td>...</td>\n",
              "      <td>...</td>\n",
              "      <td>...</td>\n",
              "      <td>...</td>\n",
              "      <td>...</td>\n",
              "      <td>...</td>\n",
              "      <td>...</td>\n",
              "    </tr>\n",
              "    <tr>\n",
              "      <th>33755</th>\n",
              "      <td>37372</td>\n",
              "      <td>0.597155</td>\n",
              "      <td>-1.457940</td>\n",
              "      <td>0.648770</td>\n",
              "      <td>-1.154721</td>\n",
              "      <td>-1.384692</td>\n",
              "      <td>-0.114190</td>\n",
              "      <td>-0.353940</td>\n",
              "      <td>0.077492</td>\n",
              "      <td>1.434997</td>\n",
              "      <td>...</td>\n",
              "      <td>0.266727</td>\n",
              "      <td>0.391858868587825</td>\n",
              "      <td>-0.248812</td>\n",
              "      <td>0.335329</td>\n",
              "      <td>0.164725</td>\n",
              "      <td>-0.063462</td>\n",
              "      <td>0.010369</td>\n",
              "      <td>0.068737</td>\n",
              "      <td>300.00</td>\n",
              "      <td>0.0</td>\n",
              "    </tr>\n",
              "    <tr>\n",
              "      <th>33756</th>\n",
              "      <td>37373</td>\n",
              "      <td>-7.504323</td>\n",
              "      <td>-15.633772</td>\n",
              "      <td>-4.215051</td>\n",
              "      <td>1.507090</td>\n",
              "      <td>-5.412604</td>\n",
              "      <td>3.243205</td>\n",
              "      <td>4.422388</td>\n",
              "      <td>-0.423582</td>\n",
              "      <td>0.392031</td>\n",
              "      <td>...</td>\n",
              "      <td>2.323590</td>\n",
              "      <td>-2.53917289990935</td>\n",
              "      <td>-3.736852</td>\n",
              "      <td>-0.792271</td>\n",
              "      <td>-1.694790</td>\n",
              "      <td>-0.463947</td>\n",
              "      <td>-0.703180</td>\n",
              "      <td>0.780931</td>\n",
              "      <td>4476.72</td>\n",
              "      <td>0.0</td>\n",
              "    </tr>\n",
              "    <tr>\n",
              "      <th>33757</th>\n",
              "      <td>37373</td>\n",
              "      <td>1.242547</td>\n",
              "      <td>0.010297</td>\n",
              "      <td>-1.206012</td>\n",
              "      <td>0.083576</td>\n",
              "      <td>2.171891</td>\n",
              "      <td>3.391877</td>\n",
              "      <td>-0.417041</td>\n",
              "      <td>0.793206</td>\n",
              "      <td>-0.149793</td>\n",
              "      <td>...</td>\n",
              "      <td>0.031822</td>\n",
              "      <td>-0.0638428726104072</td>\n",
              "      <td>-0.166334</td>\n",
              "      <td>1.008827</td>\n",
              "      <td>0.824605</td>\n",
              "      <td>-0.268009</td>\n",
              "      <td>0.016069</td>\n",
              "      <td>0.019513</td>\n",
              "      <td>28.56</td>\n",
              "      <td>0.0</td>\n",
              "    </tr>\n",
              "    <tr>\n",
              "      <th>33758</th>\n",
              "      <td>37373</td>\n",
              "      <td>-1.065865</td>\n",
              "      <td>1.177477</td>\n",
              "      <td>2.083773</td>\n",
              "      <td>1.296198</td>\n",
              "      <td>0.564073</td>\n",
              "      <td>0.295974</td>\n",
              "      <td>0.656915</td>\n",
              "      <td>0.158767</td>\n",
              "      <td>-1.006866</td>\n",
              "      <td>...</td>\n",
              "      <td>-0.157601</td>\n",
              "      <td>-0.518893364163089</td>\n",
              "      <td>-0.140236</td>\n",
              "      <td>-0.022273</td>\n",
              "      <td>0.117122</td>\n",
              "      <td>-0.358995</td>\n",
              "      <td>-0.201863</td>\n",
              "      <td>0.088919</td>\n",
              "      <td>0.00</td>\n",
              "      <td>0.0</td>\n",
              "    </tr>\n",
              "    <tr>\n",
              "      <th>33759</th>\n",
              "      <td>37373</td>\n",
              "      <td>-0.302250</td>\n",
              "      <td>0.828254</td>\n",
              "      <td>-0.311542</td>\n",
              "      <td>-1.108255</td>\n",
              "      <td>2.533421</td>\n",
              "      <td>3.274040</td>\n",
              "      <td>0.134693</td>\n",
              "      <td>0.933364</td>\n",
              "      <td>-0.505897</td>\n",
              "      <td>...</td>\n",
              "      <td>-0.314500</td>\n",
              "      <td>-</td>\n",
              "      <td>NaN</td>\n",
              "      <td>NaN</td>\n",
              "      <td>NaN</td>\n",
              "      <td>NaN</td>\n",
              "      <td>NaN</td>\n",
              "      <td>NaN</td>\n",
              "      <td>NaN</td>\n",
              "      <td>NaN</td>\n",
              "    </tr>\n",
              "  </tbody>\n",
              "</table>\n",
              "<p>33760 rows × 31 columns</p>\n",
              "</div>\n",
              "      <button class=\"colab-df-convert\" onclick=\"convertToInteractive('df-1c102b6f-70ee-4d4a-8611-d3e40618c430')\"\n",
              "              title=\"Convert this dataframe to an interactive table.\"\n",
              "              style=\"display:none;\">\n",
              "        \n",
              "  <svg xmlns=\"http://www.w3.org/2000/svg\" height=\"24px\"viewBox=\"0 0 24 24\"\n",
              "       width=\"24px\">\n",
              "    <path d=\"M0 0h24v24H0V0z\" fill=\"none\"/>\n",
              "    <path d=\"M18.56 5.44l.94 2.06.94-2.06 2.06-.94-2.06-.94-.94-2.06-.94 2.06-2.06.94zm-11 1L8.5 8.5l.94-2.06 2.06-.94-2.06-.94L8.5 2.5l-.94 2.06-2.06.94zm10 10l.94 2.06.94-2.06 2.06-.94-2.06-.94-.94-2.06-.94 2.06-2.06.94z\"/><path d=\"M17.41 7.96l-1.37-1.37c-.4-.4-.92-.59-1.43-.59-.52 0-1.04.2-1.43.59L10.3 9.45l-7.72 7.72c-.78.78-.78 2.05 0 2.83L4 21.41c.39.39.9.59 1.41.59.51 0 1.02-.2 1.41-.59l7.78-7.78 2.81-2.81c.8-.78.8-2.07 0-2.86zM5.41 20L4 18.59l7.72-7.72 1.47 1.35L5.41 20z\"/>\n",
              "  </svg>\n",
              "      </button>\n",
              "      \n",
              "  <style>\n",
              "    .colab-df-container {\n",
              "      display:flex;\n",
              "      flex-wrap:wrap;\n",
              "      gap: 12px;\n",
              "    }\n",
              "\n",
              "    .colab-df-convert {\n",
              "      background-color: #E8F0FE;\n",
              "      border: none;\n",
              "      border-radius: 50%;\n",
              "      cursor: pointer;\n",
              "      display: none;\n",
              "      fill: #1967D2;\n",
              "      height: 32px;\n",
              "      padding: 0 0 0 0;\n",
              "      width: 32px;\n",
              "    }\n",
              "\n",
              "    .colab-df-convert:hover {\n",
              "      background-color: #E2EBFA;\n",
              "      box-shadow: 0px 1px 2px rgba(60, 64, 67, 0.3), 0px 1px 3px 1px rgba(60, 64, 67, 0.15);\n",
              "      fill: #174EA6;\n",
              "    }\n",
              "\n",
              "    [theme=dark] .colab-df-convert {\n",
              "      background-color: #3B4455;\n",
              "      fill: #D2E3FC;\n",
              "    }\n",
              "\n",
              "    [theme=dark] .colab-df-convert:hover {\n",
              "      background-color: #434B5C;\n",
              "      box-shadow: 0px 1px 3px 1px rgba(0, 0, 0, 0.15);\n",
              "      filter: drop-shadow(0px 1px 2px rgba(0, 0, 0, 0.3));\n",
              "      fill: #FFFFFF;\n",
              "    }\n",
              "  </style>\n",
              "\n",
              "      <script>\n",
              "        const buttonEl =\n",
              "          document.querySelector('#df-1c102b6f-70ee-4d4a-8611-d3e40618c430 button.colab-df-convert');\n",
              "        buttonEl.style.display =\n",
              "          google.colab.kernel.accessAllowed ? 'block' : 'none';\n",
              "\n",
              "        async function convertToInteractive(key) {\n",
              "          const element = document.querySelector('#df-1c102b6f-70ee-4d4a-8611-d3e40618c430');\n",
              "          const dataTable =\n",
              "            await google.colab.kernel.invokeFunction('convertToInteractive',\n",
              "                                                     [key], {});\n",
              "          if (!dataTable) return;\n",
              "\n",
              "          const docLinkHtml = 'Like what you see? Visit the ' +\n",
              "            '<a target=\"_blank\" href=https://colab.research.google.com/notebooks/data_table.ipynb>data table notebook</a>'\n",
              "            + ' to learn more about interactive tables.';\n",
              "          element.innerHTML = '';\n",
              "          dataTable['output_type'] = 'display_data';\n",
              "          await google.colab.output.renderOutput(dataTable, element);\n",
              "          const docLink = document.createElement('div');\n",
              "          docLink.innerHTML = docLinkHtml;\n",
              "          element.appendChild(docLink);\n",
              "        }\n",
              "      </script>\n",
              "    </div>\n",
              "  </div>\n",
              "  "
            ]
          },
          "metadata": {},
          "execution_count": 7
        }
      ]
    },
    {
      "cell_type": "code",
      "source": [
        "df_credit.info()\n"
      ],
      "metadata": {
        "colab": {
          "base_uri": "https://localhost:8080/"
        },
        "id": "YFHLDnt36XJt",
        "outputId": "344ba193-2bce-4e9b-c0a1-f4f123ca153b"
      },
      "execution_count": null,
      "outputs": [
        {
          "output_type": "stream",
          "name": "stdout",
          "text": [
            "<class 'pandas.core.frame.DataFrame'>\n",
            "RangeIndex: 33760 entries, 0 to 33759\n",
            "Data columns (total 31 columns):\n",
            " #   Column  Non-Null Count  Dtype  \n",
            "---  ------  --------------  -----  \n",
            " 0   Time    33760 non-null  int64  \n",
            " 1   V1      33760 non-null  float64\n",
            " 2   V2      33760 non-null  float64\n",
            " 3   V3      33760 non-null  float64\n",
            " 4   V4      33760 non-null  float64\n",
            " 5   V5      33760 non-null  float64\n",
            " 6   V6      33760 non-null  float64\n",
            " 7   V7      33760 non-null  float64\n",
            " 8   V8      33760 non-null  float64\n",
            " 9   V9      33760 non-null  float64\n",
            " 10  V10     33760 non-null  float64\n",
            " 11  V11     33760 non-null  float64\n",
            " 12  V12     33760 non-null  float64\n",
            " 13  V13     33760 non-null  float64\n",
            " 14  V14     33760 non-null  float64\n",
            " 15  V15     33760 non-null  float64\n",
            " 16  V16     33760 non-null  float64\n",
            " 17  V17     33760 non-null  float64\n",
            " 18  V18     33760 non-null  float64\n",
            " 19  V19     33760 non-null  float64\n",
            " 20  V20     33760 non-null  float64\n",
            " 21  V21     33760 non-null  float64\n",
            " 22  V22     33760 non-null  object \n",
            " 23  V23     33759 non-null  float64\n",
            " 24  V24     33759 non-null  float64\n",
            " 25  V25     33759 non-null  float64\n",
            " 26  V26     33759 non-null  float64\n",
            " 27  V27     33759 non-null  float64\n",
            " 28  V28     33759 non-null  float64\n",
            " 29  Amount  33759 non-null  float64\n",
            " 30  Class   33759 non-null  float64\n",
            "dtypes: float64(29), int64(1), object(1)\n",
            "memory usage: 8.0+ MB\n"
          ]
        }
      ]
    },
    {
      "cell_type": "code",
      "source": [
        "df_credit.isnull().sum"
      ],
      "metadata": {
        "colab": {
          "base_uri": "https://localhost:8080/"
        },
        "id": "R0NIGC2k6vG7",
        "outputId": "366c2a84-144d-4f75-b022-3eb1cf6456ec"
      },
      "execution_count": null,
      "outputs": [
        {
          "output_type": "execute_result",
          "data": {
            "text/plain": [
              "<bound method NDFrame._add_numeric_operations.<locals>.sum of         Time     V1     V2     V3     V4     V5     V6     V7     V8     V9  \\\n",
              "0      False  False  False  False  False  False  False  False  False  False   \n",
              "1      False  False  False  False  False  False  False  False  False  False   \n",
              "2      False  False  False  False  False  False  False  False  False  False   \n",
              "3      False  False  False  False  False  False  False  False  False  False   \n",
              "4      False  False  False  False  False  False  False  False  False  False   \n",
              "...      ...    ...    ...    ...    ...    ...    ...    ...    ...    ...   \n",
              "33755  False  False  False  False  False  False  False  False  False  False   \n",
              "33756  False  False  False  False  False  False  False  False  False  False   \n",
              "33757  False  False  False  False  False  False  False  False  False  False   \n",
              "33758  False  False  False  False  False  False  False  False  False  False   \n",
              "33759  False  False  False  False  False  False  False  False  False  False   \n",
              "\n",
              "       ...    V21    V22    V23    V24    V25    V26    V27    V28  Amount  \\\n",
              "0      ...  False  False  False  False  False  False  False  False   False   \n",
              "1      ...  False  False  False  False  False  False  False  False   False   \n",
              "2      ...  False  False  False  False  False  False  False  False   False   \n",
              "3      ...  False  False  False  False  False  False  False  False   False   \n",
              "4      ...  False  False  False  False  False  False  False  False   False   \n",
              "...    ...    ...    ...    ...    ...    ...    ...    ...    ...     ...   \n",
              "33755  ...  False  False  False  False  False  False  False  False   False   \n",
              "33756  ...  False  False  False  False  False  False  False  False   False   \n",
              "33757  ...  False  False  False  False  False  False  False  False   False   \n",
              "33758  ...  False  False  False  False  False  False  False  False   False   \n",
              "33759  ...  False  False   True   True   True   True   True   True    True   \n",
              "\n",
              "       Class  \n",
              "0      False  \n",
              "1      False  \n",
              "2      False  \n",
              "3      False  \n",
              "4      False  \n",
              "...      ...  \n",
              "33755  False  \n",
              "33756  False  \n",
              "33757  False  \n",
              "33758  False  \n",
              "33759   True  \n",
              "\n",
              "[33760 rows x 31 columns]>"
            ]
          },
          "metadata": {},
          "execution_count": 10
        }
      ]
    },
    {
      "cell_type": "code",
      "source": [
        "df=df_credit.drop(33759)"
      ],
      "metadata": {
        "id": "ANUyjzOr63ZI"
      },
      "execution_count": null,
      "outputs": []
    },
    {
      "cell_type": "code",
      "source": [
        "df.isnull().sum"
      ],
      "metadata": {
        "colab": {
          "base_uri": "https://localhost:8080/"
        },
        "id": "j6XOlKh571Hm",
        "outputId": "8e75b514-a42c-4eeb-b48f-1b1f1111f2ff"
      },
      "execution_count": null,
      "outputs": [
        {
          "output_type": "execute_result",
          "data": {
            "text/plain": [
              "<bound method NDFrame._add_numeric_operations.<locals>.sum of         Time     V1     V2     V3     V4     V5     V6     V7     V8     V9  \\\n",
              "0      False  False  False  False  False  False  False  False  False  False   \n",
              "1      False  False  False  False  False  False  False  False  False  False   \n",
              "2      False  False  False  False  False  False  False  False  False  False   \n",
              "3      False  False  False  False  False  False  False  False  False  False   \n",
              "4      False  False  False  False  False  False  False  False  False  False   \n",
              "...      ...    ...    ...    ...    ...    ...    ...    ...    ...    ...   \n",
              "33754  False  False  False  False  False  False  False  False  False  False   \n",
              "33755  False  False  False  False  False  False  False  False  False  False   \n",
              "33756  False  False  False  False  False  False  False  False  False  False   \n",
              "33757  False  False  False  False  False  False  False  False  False  False   \n",
              "33758  False  False  False  False  False  False  False  False  False  False   \n",
              "\n",
              "       ...    V21    V22    V23    V24    V25    V26    V27    V28  Amount  \\\n",
              "0      ...  False  False  False  False  False  False  False  False   False   \n",
              "1      ...  False  False  False  False  False  False  False  False   False   \n",
              "2      ...  False  False  False  False  False  False  False  False   False   \n",
              "3      ...  False  False  False  False  False  False  False  False   False   \n",
              "4      ...  False  False  False  False  False  False  False  False   False   \n",
              "...    ...    ...    ...    ...    ...    ...    ...    ...    ...     ...   \n",
              "33754  ...  False  False  False  False  False  False  False  False   False   \n",
              "33755  ...  False  False  False  False  False  False  False  False   False   \n",
              "33756  ...  False  False  False  False  False  False  False  False   False   \n",
              "33757  ...  False  False  False  False  False  False  False  False   False   \n",
              "33758  ...  False  False  False  False  False  False  False  False   False   \n",
              "\n",
              "       Class  \n",
              "0      False  \n",
              "1      False  \n",
              "2      False  \n",
              "3      False  \n",
              "4      False  \n",
              "...      ...  \n",
              "33754  False  \n",
              "33755  False  \n",
              "33756  False  \n",
              "33757  False  \n",
              "33758  False  \n",
              "\n",
              "[33759 rows x 31 columns]>"
            ]
          },
          "metadata": {},
          "execution_count": 15
        }
      ]
    },
    {
      "cell_type": "markdown",
      "source": [
        "perfecto! deleted the 1 row with missing values"
      ],
      "metadata": {
        "id": "pnI_CMUz8Cu2"
      }
    },
    {
      "cell_type": "code",
      "source": [
        "df.groupby(\"Class\").mean()"
      ],
      "metadata": {
        "colab": {
          "base_uri": "https://localhost:8080/",
          "height": 272
        },
        "id": "3VW4dDBhAzPy",
        "outputId": "1f9076c6-4660-459d-fab6-843df1630d39"
      },
      "execution_count": null,
      "outputs": [
        {
          "output_type": "stream",
          "name": "stderr",
          "text": [
            "<ipython-input-34-ef2ef6d1e04d>:1: FutureWarning: The default value of numeric_only in DataFrameGroupBy.mean is deprecated. In a future version, numeric_only will default to False. Either specify numeric_only or select only columns which should be valid for the function.\n",
            "  df.groupby(\"Class\").mean()\n"
          ]
        },
        {
          "output_type": "execute_result",
          "data": {
            "text/plain": [
              "               Time        V1        V2         V3        V4        V5  \\\n",
              "Class                                                                    \n",
              "0.0    23194.307464 -0.187654  0.072598   0.753847  0.187759 -0.199393   \n",
              "1.0    20498.291262 -7.762676  5.838647 -10.957218  5.911555 -5.453798   \n",
              "\n",
              "             V6        V7        V8        V9  ...       V19       V20  \\\n",
              "Class                                          ...                       \n",
              "0.0    0.100208 -0.094713  0.020007  0.295446  ... -0.038628  0.043092   \n",
              "1.0   -2.306085 -7.743100  3.867920 -2.961800  ...  0.477900  0.652319   \n",
              "\n",
              "            V21       V23       V24       V25       V26       V27       V28  \\\n",
              "Class                                                                         \n",
              "0.0   -0.033930 -0.041512  0.009386  0.134676  0.021468  0.009748  0.003296   \n",
              "1.0    0.628539 -0.362138 -0.234731  0.300023  0.180390  0.822304  0.102481   \n",
              "\n",
              "          Amount  \n",
              "Class             \n",
              "0.0    83.011607  \n",
              "1.0    90.471165  \n",
              "\n",
              "[2 rows x 29 columns]"
            ],
            "text/html": [
              "\n",
              "  <div id=\"df-265e1cd0-ce01-48e4-9d24-d0315caf439a\">\n",
              "    <div class=\"colab-df-container\">\n",
              "      <div>\n",
              "<style scoped>\n",
              "    .dataframe tbody tr th:only-of-type {\n",
              "        vertical-align: middle;\n",
              "    }\n",
              "\n",
              "    .dataframe tbody tr th {\n",
              "        vertical-align: top;\n",
              "    }\n",
              "\n",
              "    .dataframe thead th {\n",
              "        text-align: right;\n",
              "    }\n",
              "</style>\n",
              "<table border=\"1\" class=\"dataframe\">\n",
              "  <thead>\n",
              "    <tr style=\"text-align: right;\">\n",
              "      <th></th>\n",
              "      <th>Time</th>\n",
              "      <th>V1</th>\n",
              "      <th>V2</th>\n",
              "      <th>V3</th>\n",
              "      <th>V4</th>\n",
              "      <th>V5</th>\n",
              "      <th>V6</th>\n",
              "      <th>V7</th>\n",
              "      <th>V8</th>\n",
              "      <th>V9</th>\n",
              "      <th>...</th>\n",
              "      <th>V19</th>\n",
              "      <th>V20</th>\n",
              "      <th>V21</th>\n",
              "      <th>V23</th>\n",
              "      <th>V24</th>\n",
              "      <th>V25</th>\n",
              "      <th>V26</th>\n",
              "      <th>V27</th>\n",
              "      <th>V28</th>\n",
              "      <th>Amount</th>\n",
              "    </tr>\n",
              "    <tr>\n",
              "      <th>Class</th>\n",
              "      <th></th>\n",
              "      <th></th>\n",
              "      <th></th>\n",
              "      <th></th>\n",
              "      <th></th>\n",
              "      <th></th>\n",
              "      <th></th>\n",
              "      <th></th>\n",
              "      <th></th>\n",
              "      <th></th>\n",
              "      <th></th>\n",
              "      <th></th>\n",
              "      <th></th>\n",
              "      <th></th>\n",
              "      <th></th>\n",
              "      <th></th>\n",
              "      <th></th>\n",
              "      <th></th>\n",
              "      <th></th>\n",
              "      <th></th>\n",
              "      <th></th>\n",
              "    </tr>\n",
              "  </thead>\n",
              "  <tbody>\n",
              "    <tr>\n",
              "      <th>0.0</th>\n",
              "      <td>23194.307464</td>\n",
              "      <td>-0.187654</td>\n",
              "      <td>0.072598</td>\n",
              "      <td>0.753847</td>\n",
              "      <td>0.187759</td>\n",
              "      <td>-0.199393</td>\n",
              "      <td>0.100208</td>\n",
              "      <td>-0.094713</td>\n",
              "      <td>0.020007</td>\n",
              "      <td>0.295446</td>\n",
              "      <td>...</td>\n",
              "      <td>-0.038628</td>\n",
              "      <td>0.043092</td>\n",
              "      <td>-0.033930</td>\n",
              "      <td>-0.041512</td>\n",
              "      <td>0.009386</td>\n",
              "      <td>0.134676</td>\n",
              "      <td>0.021468</td>\n",
              "      <td>0.009748</td>\n",
              "      <td>0.003296</td>\n",
              "      <td>83.011607</td>\n",
              "    </tr>\n",
              "    <tr>\n",
              "      <th>1.0</th>\n",
              "      <td>20498.291262</td>\n",
              "      <td>-7.762676</td>\n",
              "      <td>5.838647</td>\n",
              "      <td>-10.957218</td>\n",
              "      <td>5.911555</td>\n",
              "      <td>-5.453798</td>\n",
              "      <td>-2.306085</td>\n",
              "      <td>-7.743100</td>\n",
              "      <td>3.867920</td>\n",
              "      <td>-2.961800</td>\n",
              "      <td>...</td>\n",
              "      <td>0.477900</td>\n",
              "      <td>0.652319</td>\n",
              "      <td>0.628539</td>\n",
              "      <td>-0.362138</td>\n",
              "      <td>-0.234731</td>\n",
              "      <td>0.300023</td>\n",
              "      <td>0.180390</td>\n",
              "      <td>0.822304</td>\n",
              "      <td>0.102481</td>\n",
              "      <td>90.471165</td>\n",
              "    </tr>\n",
              "  </tbody>\n",
              "</table>\n",
              "<p>2 rows × 29 columns</p>\n",
              "</div>\n",
              "      <button class=\"colab-df-convert\" onclick=\"convertToInteractive('df-265e1cd0-ce01-48e4-9d24-d0315caf439a')\"\n",
              "              title=\"Convert this dataframe to an interactive table.\"\n",
              "              style=\"display:none;\">\n",
              "        \n",
              "  <svg xmlns=\"http://www.w3.org/2000/svg\" height=\"24px\"viewBox=\"0 0 24 24\"\n",
              "       width=\"24px\">\n",
              "    <path d=\"M0 0h24v24H0V0z\" fill=\"none\"/>\n",
              "    <path d=\"M18.56 5.44l.94 2.06.94-2.06 2.06-.94-2.06-.94-.94-2.06-.94 2.06-2.06.94zm-11 1L8.5 8.5l.94-2.06 2.06-.94-2.06-.94L8.5 2.5l-.94 2.06-2.06.94zm10 10l.94 2.06.94-2.06 2.06-.94-2.06-.94-.94-2.06-.94 2.06-2.06.94z\"/><path d=\"M17.41 7.96l-1.37-1.37c-.4-.4-.92-.59-1.43-.59-.52 0-1.04.2-1.43.59L10.3 9.45l-7.72 7.72c-.78.78-.78 2.05 0 2.83L4 21.41c.39.39.9.59 1.41.59.51 0 1.02-.2 1.41-.59l7.78-7.78 2.81-2.81c.8-.78.8-2.07 0-2.86zM5.41 20L4 18.59l7.72-7.72 1.47 1.35L5.41 20z\"/>\n",
              "  </svg>\n",
              "      </button>\n",
              "      \n",
              "  <style>\n",
              "    .colab-df-container {\n",
              "      display:flex;\n",
              "      flex-wrap:wrap;\n",
              "      gap: 12px;\n",
              "    }\n",
              "\n",
              "    .colab-df-convert {\n",
              "      background-color: #E8F0FE;\n",
              "      border: none;\n",
              "      border-radius: 50%;\n",
              "      cursor: pointer;\n",
              "      display: none;\n",
              "      fill: #1967D2;\n",
              "      height: 32px;\n",
              "      padding: 0 0 0 0;\n",
              "      width: 32px;\n",
              "    }\n",
              "\n",
              "    .colab-df-convert:hover {\n",
              "      background-color: #E2EBFA;\n",
              "      box-shadow: 0px 1px 2px rgba(60, 64, 67, 0.3), 0px 1px 3px 1px rgba(60, 64, 67, 0.15);\n",
              "      fill: #174EA6;\n",
              "    }\n",
              "\n",
              "    [theme=dark] .colab-df-convert {\n",
              "      background-color: #3B4455;\n",
              "      fill: #D2E3FC;\n",
              "    }\n",
              "\n",
              "    [theme=dark] .colab-df-convert:hover {\n",
              "      background-color: #434B5C;\n",
              "      box-shadow: 0px 1px 3px 1px rgba(0, 0, 0, 0.15);\n",
              "      filter: drop-shadow(0px 1px 2px rgba(0, 0, 0, 0.3));\n",
              "      fill: #FFFFFF;\n",
              "    }\n",
              "  </style>\n",
              "\n",
              "      <script>\n",
              "        const buttonEl =\n",
              "          document.querySelector('#df-265e1cd0-ce01-48e4-9d24-d0315caf439a button.colab-df-convert');\n",
              "        buttonEl.style.display =\n",
              "          google.colab.kernel.accessAllowed ? 'block' : 'none';\n",
              "\n",
              "        async function convertToInteractive(key) {\n",
              "          const element = document.querySelector('#df-265e1cd0-ce01-48e4-9d24-d0315caf439a');\n",
              "          const dataTable =\n",
              "            await google.colab.kernel.invokeFunction('convertToInteractive',\n",
              "                                                     [key], {});\n",
              "          if (!dataTable) return;\n",
              "\n",
              "          const docLinkHtml = 'Like what you see? Visit the ' +\n",
              "            '<a target=\"_blank\" href=https://colab.research.google.com/notebooks/data_table.ipynb>data table notebook</a>'\n",
              "            + ' to learn more about interactive tables.';\n",
              "          element.innerHTML = '';\n",
              "          dataTable['output_type'] = 'display_data';\n",
              "          await google.colab.output.renderOutput(dataTable, element);\n",
              "          const docLink = document.createElement('div');\n",
              "          docLink.innerHTML = docLinkHtml;\n",
              "          element.appendChild(docLink);\n",
              "        }\n",
              "      </script>\n",
              "    </div>\n",
              "  </div>\n",
              "  "
            ]
          },
          "metadata": {},
          "execution_count": 34
        }
      ]
    },
    {
      "cell_type": "markdown",
      "source": [
        "check if data is balanced or not"
      ],
      "metadata": {
        "id": "oFFX4a3T8NkB"
      }
    },
    {
      "cell_type": "code",
      "source": [
        "df['Class'].value_counts()"
      ],
      "metadata": {
        "colab": {
          "base_uri": "https://localhost:8080/"
        },
        "id": "xq6mlRYS7xfm",
        "outputId": "6f7c63b2-1512-4acd-a3db-0353263b6ba0"
      },
      "execution_count": null,
      "outputs": [
        {
          "output_type": "execute_result",
          "data": {
            "text/plain": [
              "0.0    33656\n",
              "1.0      103\n",
              "Name: Class, dtype: int64"
            ]
          },
          "metadata": {},
          "execution_count": 16
        }
      ]
    },
    {
      "cell_type": "markdown",
      "source": [
        "0 means correct transaction\n",
        "1 means fraudulent transaction\n",
        "according to this distribution -> imbalanced data "
      ],
      "metadata": {
        "id": "o3CmCVlH8eIL"
      }
    },
    {
      "cell_type": "markdown",
      "source": [
        "dealing with imbalanced data"
      ],
      "metadata": {
        "id": "87sslt5x9E10"
      }
    },
    {
      "cell_type": "code",
      "source": [
        "correct= df[df.Class==0]\n",
        "fraud= df[df.Class==1]"
      ],
      "metadata": {
        "id": "ajhUkRs29Klv"
      },
      "execution_count": null,
      "outputs": []
    },
    {
      "cell_type": "code",
      "source": [
        "correct.info()"
      ],
      "metadata": {
        "colab": {
          "base_uri": "https://localhost:8080/"
        },
        "id": "YlfBSFoK9XjL",
        "outputId": "d47a812e-9fce-46b3-a1c8-85b889d64cbd"
      },
      "execution_count": null,
      "outputs": [
        {
          "output_type": "stream",
          "name": "stdout",
          "text": [
            "<class 'pandas.core.frame.DataFrame'>\n",
            "Int64Index: 33656 entries, 0 to 33758\n",
            "Data columns (total 31 columns):\n",
            " #   Column  Non-Null Count  Dtype  \n",
            "---  ------  --------------  -----  \n",
            " 0   Time    33656 non-null  int64  \n",
            " 1   V1      33656 non-null  float64\n",
            " 2   V2      33656 non-null  float64\n",
            " 3   V3      33656 non-null  float64\n",
            " 4   V4      33656 non-null  float64\n",
            " 5   V5      33656 non-null  float64\n",
            " 6   V6      33656 non-null  float64\n",
            " 7   V7      33656 non-null  float64\n",
            " 8   V8      33656 non-null  float64\n",
            " 9   V9      33656 non-null  float64\n",
            " 10  V10     33656 non-null  float64\n",
            " 11  V11     33656 non-null  float64\n",
            " 12  V12     33656 non-null  float64\n",
            " 13  V13     33656 non-null  float64\n",
            " 14  V14     33656 non-null  float64\n",
            " 15  V15     33656 non-null  float64\n",
            " 16  V16     33656 non-null  float64\n",
            " 17  V17     33656 non-null  float64\n",
            " 18  V18     33656 non-null  float64\n",
            " 19  V19     33656 non-null  float64\n",
            " 20  V20     33656 non-null  float64\n",
            " 21  V21     33656 non-null  float64\n",
            " 22  V22     33656 non-null  object \n",
            " 23  V23     33656 non-null  float64\n",
            " 24  V24     33656 non-null  float64\n",
            " 25  V25     33656 non-null  float64\n",
            " 26  V26     33656 non-null  float64\n",
            " 27  V27     33656 non-null  float64\n",
            " 28  V28     33656 non-null  float64\n",
            " 29  Amount  33656 non-null  float64\n",
            " 30  Class   33656 non-null  float64\n",
            "dtypes: float64(29), int64(1), object(1)\n",
            "memory usage: 8.2+ MB\n"
          ]
        }
      ]
    },
    {
      "cell_type": "code",
      "source": [
        "fraud.info()"
      ],
      "metadata": {
        "colab": {
          "base_uri": "https://localhost:8080/"
        },
        "id": "YyAQaRzT9avo",
        "outputId": "a92e4924-7109-48f5-e20f-df70fb18f8f1"
      },
      "execution_count": null,
      "outputs": [
        {
          "output_type": "stream",
          "name": "stdout",
          "text": [
            "<class 'pandas.core.frame.DataFrame'>\n",
            "Int64Index: 103 entries, 541 to 33276\n",
            "Data columns (total 31 columns):\n",
            " #   Column  Non-Null Count  Dtype  \n",
            "---  ------  --------------  -----  \n",
            " 0   Time    103 non-null    int64  \n",
            " 1   V1      103 non-null    float64\n",
            " 2   V2      103 non-null    float64\n",
            " 3   V3      103 non-null    float64\n",
            " 4   V4      103 non-null    float64\n",
            " 5   V5      103 non-null    float64\n",
            " 6   V6      103 non-null    float64\n",
            " 7   V7      103 non-null    float64\n",
            " 8   V8      103 non-null    float64\n",
            " 9   V9      103 non-null    float64\n",
            " 10  V10     103 non-null    float64\n",
            " 11  V11     103 non-null    float64\n",
            " 12  V12     103 non-null    float64\n",
            " 13  V13     103 non-null    float64\n",
            " 14  V14     103 non-null    float64\n",
            " 15  V15     103 non-null    float64\n",
            " 16  V16     103 non-null    float64\n",
            " 17  V17     103 non-null    float64\n",
            " 18  V18     103 non-null    float64\n",
            " 19  V19     103 non-null    float64\n",
            " 20  V20     103 non-null    float64\n",
            " 21  V21     103 non-null    float64\n",
            " 22  V22     103 non-null    object \n",
            " 23  V23     103 non-null    float64\n",
            " 24  V24     103 non-null    float64\n",
            " 25  V25     103 non-null    float64\n",
            " 26  V26     103 non-null    float64\n",
            " 27  V27     103 non-null    float64\n",
            " 28  V28     103 non-null    float64\n",
            " 29  Amount  103 non-null    float64\n",
            " 30  Class   103 non-null    float64\n",
            "dtypes: float64(29), int64(1), object(1)\n",
            "memory usage: 25.8+ KB\n"
          ]
        }
      ]
    },
    {
      "cell_type": "code",
      "source": [
        "correct.Amount.describe()"
      ],
      "metadata": {
        "colab": {
          "base_uri": "https://localhost:8080/"
        },
        "id": "b4Ye0Ia39eGP",
        "outputId": "d1bebfc6-4e11-4f09-f316-05f4f4b46dbf"
      },
      "execution_count": null,
      "outputs": [
        {
          "output_type": "execute_result",
          "data": {
            "text/plain": [
              "count    33656.000000\n",
              "mean        83.011607\n",
              "std        227.811004\n",
              "min          0.000000\n",
              "25%          6.990000\n",
              "50%         21.040000\n",
              "75%         75.000000\n",
              "max       7879.420000\n",
              "Name: Amount, dtype: float64"
            ]
          },
          "metadata": {},
          "execution_count": 20
        }
      ]
    },
    {
      "cell_type": "code",
      "source": [
        "fraud.Amount.describe()"
      ],
      "metadata": {
        "colab": {
          "base_uri": "https://localhost:8080/"
        },
        "id": "R5olWk4A9kxf",
        "outputId": "94e99b26-22e0-45b6-b694-e795ed4c4a06"
      },
      "execution_count": null,
      "outputs": [
        {
          "output_type": "execute_result",
          "data": {
            "text/plain": [
              "count     103.000000\n",
              "mean       90.471165\n",
              "std       247.173335\n",
              "min         0.000000\n",
              "25%         1.000000\n",
              "50%         3.760000\n",
              "75%        99.990000\n",
              "max      1809.680000\n",
              "Name: Amount, dtype: float64"
            ]
          },
          "metadata": {},
          "execution_count": 21
        }
      ]
    },
    {
      "cell_type": "markdown",
      "source": [
        "mean for fraud is higher\n"
      ],
      "metadata": {
        "id": "0HkRy9Ta9z7g"
      }
    },
    {
      "cell_type": "code",
      "source": [
        "df.groupby('Class').mean()"
      ],
      "metadata": {
        "colab": {
          "base_uri": "https://localhost:8080/",
          "height": 272
        },
        "id": "eLSUJBo69xnc",
        "outputId": "f06aaf03-2bd3-413e-baa4-b50b55ff145b"
      },
      "execution_count": null,
      "outputs": [
        {
          "output_type": "stream",
          "name": "stderr",
          "text": [
            "<ipython-input-22-b888f8b600a0>:1: FutureWarning: The default value of numeric_only in DataFrameGroupBy.mean is deprecated. In a future version, numeric_only will default to False. Either specify numeric_only or select only columns which should be valid for the function.\n",
            "  df.groupby('Class').mean()\n"
          ]
        },
        {
          "output_type": "execute_result",
          "data": {
            "text/plain": [
              "               Time        V1        V2         V3        V4        V5  \\\n",
              "Class                                                                    \n",
              "0.0    23194.307464 -0.187654  0.072598   0.753847  0.187759 -0.199393   \n",
              "1.0    20498.291262 -7.762676  5.838647 -10.957218  5.911555 -5.453798   \n",
              "\n",
              "             V6        V7        V8        V9  ...       V19       V20  \\\n",
              "Class                                          ...                       \n",
              "0.0    0.100208 -0.094713  0.020007  0.295446  ... -0.038628  0.043092   \n",
              "1.0   -2.306085 -7.743100  3.867920 -2.961800  ...  0.477900  0.652319   \n",
              "\n",
              "            V21       V23       V24       V25       V26       V27       V28  \\\n",
              "Class                                                                         \n",
              "0.0   -0.033930 -0.041512  0.009386  0.134676  0.021468  0.009748  0.003296   \n",
              "1.0    0.628539 -0.362138 -0.234731  0.300023  0.180390  0.822304  0.102481   \n",
              "\n",
              "          Amount  \n",
              "Class             \n",
              "0.0    83.011607  \n",
              "1.0    90.471165  \n",
              "\n",
              "[2 rows x 29 columns]"
            ],
            "text/html": [
              "\n",
              "  <div id=\"df-4083564a-d632-4227-b8c5-19f3ba0c0adb\">\n",
              "    <div class=\"colab-df-container\">\n",
              "      <div>\n",
              "<style scoped>\n",
              "    .dataframe tbody tr th:only-of-type {\n",
              "        vertical-align: middle;\n",
              "    }\n",
              "\n",
              "    .dataframe tbody tr th {\n",
              "        vertical-align: top;\n",
              "    }\n",
              "\n",
              "    .dataframe thead th {\n",
              "        text-align: right;\n",
              "    }\n",
              "</style>\n",
              "<table border=\"1\" class=\"dataframe\">\n",
              "  <thead>\n",
              "    <tr style=\"text-align: right;\">\n",
              "      <th></th>\n",
              "      <th>Time</th>\n",
              "      <th>V1</th>\n",
              "      <th>V2</th>\n",
              "      <th>V3</th>\n",
              "      <th>V4</th>\n",
              "      <th>V5</th>\n",
              "      <th>V6</th>\n",
              "      <th>V7</th>\n",
              "      <th>V8</th>\n",
              "      <th>V9</th>\n",
              "      <th>...</th>\n",
              "      <th>V19</th>\n",
              "      <th>V20</th>\n",
              "      <th>V21</th>\n",
              "      <th>V23</th>\n",
              "      <th>V24</th>\n",
              "      <th>V25</th>\n",
              "      <th>V26</th>\n",
              "      <th>V27</th>\n",
              "      <th>V28</th>\n",
              "      <th>Amount</th>\n",
              "    </tr>\n",
              "    <tr>\n",
              "      <th>Class</th>\n",
              "      <th></th>\n",
              "      <th></th>\n",
              "      <th></th>\n",
              "      <th></th>\n",
              "      <th></th>\n",
              "      <th></th>\n",
              "      <th></th>\n",
              "      <th></th>\n",
              "      <th></th>\n",
              "      <th></th>\n",
              "      <th></th>\n",
              "      <th></th>\n",
              "      <th></th>\n",
              "      <th></th>\n",
              "      <th></th>\n",
              "      <th></th>\n",
              "      <th></th>\n",
              "      <th></th>\n",
              "      <th></th>\n",
              "      <th></th>\n",
              "      <th></th>\n",
              "    </tr>\n",
              "  </thead>\n",
              "  <tbody>\n",
              "    <tr>\n",
              "      <th>0.0</th>\n",
              "      <td>23194.307464</td>\n",
              "      <td>-0.187654</td>\n",
              "      <td>0.072598</td>\n",
              "      <td>0.753847</td>\n",
              "      <td>0.187759</td>\n",
              "      <td>-0.199393</td>\n",
              "      <td>0.100208</td>\n",
              "      <td>-0.094713</td>\n",
              "      <td>0.020007</td>\n",
              "      <td>0.295446</td>\n",
              "      <td>...</td>\n",
              "      <td>-0.038628</td>\n",
              "      <td>0.043092</td>\n",
              "      <td>-0.033930</td>\n",
              "      <td>-0.041512</td>\n",
              "      <td>0.009386</td>\n",
              "      <td>0.134676</td>\n",
              "      <td>0.021468</td>\n",
              "      <td>0.009748</td>\n",
              "      <td>0.003296</td>\n",
              "      <td>83.011607</td>\n",
              "    </tr>\n",
              "    <tr>\n",
              "      <th>1.0</th>\n",
              "      <td>20498.291262</td>\n",
              "      <td>-7.762676</td>\n",
              "      <td>5.838647</td>\n",
              "      <td>-10.957218</td>\n",
              "      <td>5.911555</td>\n",
              "      <td>-5.453798</td>\n",
              "      <td>-2.306085</td>\n",
              "      <td>-7.743100</td>\n",
              "      <td>3.867920</td>\n",
              "      <td>-2.961800</td>\n",
              "      <td>...</td>\n",
              "      <td>0.477900</td>\n",
              "      <td>0.652319</td>\n",
              "      <td>0.628539</td>\n",
              "      <td>-0.362138</td>\n",
              "      <td>-0.234731</td>\n",
              "      <td>0.300023</td>\n",
              "      <td>0.180390</td>\n",
              "      <td>0.822304</td>\n",
              "      <td>0.102481</td>\n",
              "      <td>90.471165</td>\n",
              "    </tr>\n",
              "  </tbody>\n",
              "</table>\n",
              "<p>2 rows × 29 columns</p>\n",
              "</div>\n",
              "      <button class=\"colab-df-convert\" onclick=\"convertToInteractive('df-4083564a-d632-4227-b8c5-19f3ba0c0adb')\"\n",
              "              title=\"Convert this dataframe to an interactive table.\"\n",
              "              style=\"display:none;\">\n",
              "        \n",
              "  <svg xmlns=\"http://www.w3.org/2000/svg\" height=\"24px\"viewBox=\"0 0 24 24\"\n",
              "       width=\"24px\">\n",
              "    <path d=\"M0 0h24v24H0V0z\" fill=\"none\"/>\n",
              "    <path d=\"M18.56 5.44l.94 2.06.94-2.06 2.06-.94-2.06-.94-.94-2.06-.94 2.06-2.06.94zm-11 1L8.5 8.5l.94-2.06 2.06-.94-2.06-.94L8.5 2.5l-.94 2.06-2.06.94zm10 10l.94 2.06.94-2.06 2.06-.94-2.06-.94-.94-2.06-.94 2.06-2.06.94z\"/><path d=\"M17.41 7.96l-1.37-1.37c-.4-.4-.92-.59-1.43-.59-.52 0-1.04.2-1.43.59L10.3 9.45l-7.72 7.72c-.78.78-.78 2.05 0 2.83L4 21.41c.39.39.9.59 1.41.59.51 0 1.02-.2 1.41-.59l7.78-7.78 2.81-2.81c.8-.78.8-2.07 0-2.86zM5.41 20L4 18.59l7.72-7.72 1.47 1.35L5.41 20z\"/>\n",
              "  </svg>\n",
              "      </button>\n",
              "      \n",
              "  <style>\n",
              "    .colab-df-container {\n",
              "      display:flex;\n",
              "      flex-wrap:wrap;\n",
              "      gap: 12px;\n",
              "    }\n",
              "\n",
              "    .colab-df-convert {\n",
              "      background-color: #E8F0FE;\n",
              "      border: none;\n",
              "      border-radius: 50%;\n",
              "      cursor: pointer;\n",
              "      display: none;\n",
              "      fill: #1967D2;\n",
              "      height: 32px;\n",
              "      padding: 0 0 0 0;\n",
              "      width: 32px;\n",
              "    }\n",
              "\n",
              "    .colab-df-convert:hover {\n",
              "      background-color: #E2EBFA;\n",
              "      box-shadow: 0px 1px 2px rgba(60, 64, 67, 0.3), 0px 1px 3px 1px rgba(60, 64, 67, 0.15);\n",
              "      fill: #174EA6;\n",
              "    }\n",
              "\n",
              "    [theme=dark] .colab-df-convert {\n",
              "      background-color: #3B4455;\n",
              "      fill: #D2E3FC;\n",
              "    }\n",
              "\n",
              "    [theme=dark] .colab-df-convert:hover {\n",
              "      background-color: #434B5C;\n",
              "      box-shadow: 0px 1px 3px 1px rgba(0, 0, 0, 0.15);\n",
              "      filter: drop-shadow(0px 1px 2px rgba(0, 0, 0, 0.3));\n",
              "      fill: #FFFFFF;\n",
              "    }\n",
              "  </style>\n",
              "\n",
              "      <script>\n",
              "        const buttonEl =\n",
              "          document.querySelector('#df-4083564a-d632-4227-b8c5-19f3ba0c0adb button.colab-df-convert');\n",
              "        buttonEl.style.display =\n",
              "          google.colab.kernel.accessAllowed ? 'block' : 'none';\n",
              "\n",
              "        async function convertToInteractive(key) {\n",
              "          const element = document.querySelector('#df-4083564a-d632-4227-b8c5-19f3ba0c0adb');\n",
              "          const dataTable =\n",
              "            await google.colab.kernel.invokeFunction('convertToInteractive',\n",
              "                                                     [key], {});\n",
              "          if (!dataTable) return;\n",
              "\n",
              "          const docLinkHtml = 'Like what you see? Visit the ' +\n",
              "            '<a target=\"_blank\" href=https://colab.research.google.com/notebooks/data_table.ipynb>data table notebook</a>'\n",
              "            + ' to learn more about interactive tables.';\n",
              "          element.innerHTML = '';\n",
              "          dataTable['output_type'] = 'display_data';\n",
              "          await google.colab.output.renderOutput(dataTable, element);\n",
              "          const docLink = document.createElement('div');\n",
              "          docLink.innerHTML = docLinkHtml;\n",
              "          element.appendChild(docLink);\n",
              "        }\n",
              "      </script>\n",
              "    </div>\n",
              "  </div>\n",
              "  "
            ]
          },
          "metadata": {},
          "execution_count": 22
        }
      ]
    },
    {
      "cell_type": "markdown",
      "source": [
        "to deal w unbalanced data -> under-sampling technique"
      ],
      "metadata": {
        "id": "VMQ7e1Ex-QOZ"
      }
    },
    {
      "cell_type": "code",
      "source": [
        "correct_sample= correct.sample(n=103)"
      ],
      "metadata": {
        "id": "fT9pWhNw-Dvl"
      },
      "execution_count": null,
      "outputs": []
    },
    {
      "cell_type": "code",
      "source": [
        "correct_sample.shape"
      ],
      "metadata": {
        "colab": {
          "base_uri": "https://localhost:8080/"
        },
        "id": "3wM1gAEW-tF3",
        "outputId": "eb833ca0-ba90-4a44-d562-77ca118a1339"
      },
      "execution_count": null,
      "outputs": [
        {
          "output_type": "execute_result",
          "data": {
            "text/plain": [
              "(103, 31)"
            ]
          },
          "metadata": {},
          "execution_count": 27
        }
      ]
    },
    {
      "cell_type": "code",
      "source": [
        "fraud.shape"
      ],
      "metadata": {
        "colab": {
          "base_uri": "https://localhost:8080/"
        },
        "id": "KS6Tul3t_vWI",
        "outputId": "92ae1109-b112-4d16-af92-5560e2ce6ff1"
      },
      "execution_count": null,
      "outputs": [
        {
          "output_type": "execute_result",
          "data": {
            "text/plain": [
              "(103, 31)"
            ]
          },
          "metadata": {},
          "execution_count": 28
        }
      ]
    },
    {
      "cell_type": "markdown",
      "source": [
        "now both of them have same no. of values -> balanced data"
      ],
      "metadata": {
        "id": "E00k3qxb_6jt"
      }
    },
    {
      "cell_type": "markdown",
      "source": [
        "join both dataframes"
      ],
      "metadata": {
        "id": "KrysgdtL_liB"
      }
    },
    {
      "cell_type": "code",
      "source": [
        "new_df=pd.concat([correct_sample,fraud], axis=0)"
      ],
      "metadata": {
        "id": "1SIbzmjH-x6J"
      },
      "execution_count": null,
      "outputs": []
    },
    {
      "cell_type": "markdown",
      "source": [
        "axis=0 means add row wise\n",
        "axis=1 means add column wise"
      ],
      "metadata": {
        "id": "0IgTD6sy_Ej2"
      }
    },
    {
      "cell_type": "code",
      "source": [
        "new_df"
      ],
      "metadata": {
        "colab": {
          "base_uri": "https://localhost:8080/",
          "height": 488
        },
        "id": "4n6klSOE_02O",
        "outputId": "ff951c46-de7b-4847-c338-bc23862fa309"
      },
      "execution_count": null,
      "outputs": [
        {
          "output_type": "execute_result",
          "data": {
            "text/plain": [
              "        Time        V1        V2        V3        V4        V5        V6  \\\n",
              "28036  34821 -1.340462  1.735358 -0.017475  0.115988  0.521309 -0.120713   \n",
              "19531  30359 -0.574195  0.086990 -0.086064  0.747603  1.137108  4.813820   \n",
              "24010  33021 -2.123429 -2.232032  0.774248 -0.394580 -2.841878  2.273785   \n",
              "2260    1800 -0.864793  0.886171  1.569223  1.188212  0.269561  0.235837   \n",
              "12706  22275 -0.118164  1.538540  0.125054  0.869844  0.735958 -0.789105   \n",
              "...      ...       ...       ...       ...       ...       ...       ...   \n",
              "30442  35926 -3.896583  4.518355 -4.454027  5.547453 -4.121459 -1.163407   \n",
              "30473  35942 -4.194074  4.382897 -5.118363  4.455230 -4.812621 -1.224645   \n",
              "30496  35953 -4.844372  5.649439 -6.730396  5.252842 -4.409566 -1.740767   \n",
              "31002  36170 -5.685013  5.776516 -7.064977  5.902715 -4.715564 -1.755633   \n",
              "33276  37167 -7.923891 -5.198360 -3.000024  4.420666  2.272194 -3.394483   \n",
              "\n",
              "             V7        V8        V9  ...       V21                V22  \\\n",
              "28036  0.295125  0.883824 -1.600018  ...  0.070912          -0.131493   \n",
              "19531 -0.417345  1.603915  0.347508  ... -0.273816          -0.884486   \n",
              "24010  1.443102 -0.115531 -0.064782  ... -0.135442           1.164262   \n",
              "2260   0.603880 -0.048396 -0.077952  ... -0.006494           0.391874   \n",
              "12706  1.080944 -0.505354  1.335393  ... -0.163380           0.299649   \n",
              "...         ...       ...       ...  ...       ...                ...   \n",
              "30442 -6.805053  2.928356 -4.917130  ...  1.691042           0.920021   \n",
              "30473 -7.281328  3.332250 -3.679659  ...  1.550473           0.614573   \n",
              "30496 -6.311699  3.449167 -5.416284  ...  1.194888          -0.845753   \n",
              "31002 -6.958679  3.877795 -5.541529  ...  1.128641           -0.96296   \n",
              "33276 -5.283435  0.131619  0.658176  ... -0.734308  -0.59992625988411   \n",
              "\n",
              "            V23       V24       V25       V26       V27       V28  Amount  \\\n",
              "28036 -0.166022 -0.810120 -0.126137  0.728123 -0.127338  0.033952    2.99   \n",
              "19531  0.414803  0.976896 -0.018185 -0.458084 -0.045468 -0.019679  165.90   \n",
              "24010  0.851564 -0.720236 -0.014260  0.054618  0.925618 -0.138352  654.60   \n",
              "2260  -0.057058  0.225745 -0.205699 -0.312078 -0.138643 -0.003934    5.71   \n",
              "12706 -0.060769 -0.208430 -0.591124 -0.440016  0.458462  0.115086    0.79   \n",
              "...         ...       ...       ...       ...       ...       ...     ...   \n",
              "30442 -0.151104  0.011007  0.080303  0.412191  0.635789  0.501050    4.56   \n",
              "30473  0.028521  0.013704 -0.149512 -0.131687  0.473934  0.473757   14.46   \n",
              "30496  0.190674 -0.216443 -0.325033 -0.270328  0.210214  0.391855  111.70   \n",
              "31002 -0.110045 -0.177733 -0.089175 -0.049447  0.303445  0.219380  111.70   \n",
              "33276 -4.908301  0.410170 -1.167660  0.520508  1.937421 -1.552593   12.31   \n",
              "\n",
              "       Class  \n",
              "28036    0.0  \n",
              "19531    0.0  \n",
              "24010    0.0  \n",
              "2260     0.0  \n",
              "12706    0.0  \n",
              "...      ...  \n",
              "30442    1.0  \n",
              "30473    1.0  \n",
              "30496    1.0  \n",
              "31002    1.0  \n",
              "33276    1.0  \n",
              "\n",
              "[206 rows x 31 columns]"
            ],
            "text/html": [
              "\n",
              "  <div id=\"df-c60e7cad-a772-40a5-94e3-396f704308e8\">\n",
              "    <div class=\"colab-df-container\">\n",
              "      <div>\n",
              "<style scoped>\n",
              "    .dataframe tbody tr th:only-of-type {\n",
              "        vertical-align: middle;\n",
              "    }\n",
              "\n",
              "    .dataframe tbody tr th {\n",
              "        vertical-align: top;\n",
              "    }\n",
              "\n",
              "    .dataframe thead th {\n",
              "        text-align: right;\n",
              "    }\n",
              "</style>\n",
              "<table border=\"1\" class=\"dataframe\">\n",
              "  <thead>\n",
              "    <tr style=\"text-align: right;\">\n",
              "      <th></th>\n",
              "      <th>Time</th>\n",
              "      <th>V1</th>\n",
              "      <th>V2</th>\n",
              "      <th>V3</th>\n",
              "      <th>V4</th>\n",
              "      <th>V5</th>\n",
              "      <th>V6</th>\n",
              "      <th>V7</th>\n",
              "      <th>V8</th>\n",
              "      <th>V9</th>\n",
              "      <th>...</th>\n",
              "      <th>V21</th>\n",
              "      <th>V22</th>\n",
              "      <th>V23</th>\n",
              "      <th>V24</th>\n",
              "      <th>V25</th>\n",
              "      <th>V26</th>\n",
              "      <th>V27</th>\n",
              "      <th>V28</th>\n",
              "      <th>Amount</th>\n",
              "      <th>Class</th>\n",
              "    </tr>\n",
              "  </thead>\n",
              "  <tbody>\n",
              "    <tr>\n",
              "      <th>28036</th>\n",
              "      <td>34821</td>\n",
              "      <td>-1.340462</td>\n",
              "      <td>1.735358</td>\n",
              "      <td>-0.017475</td>\n",
              "      <td>0.115988</td>\n",
              "      <td>0.521309</td>\n",
              "      <td>-0.120713</td>\n",
              "      <td>0.295125</td>\n",
              "      <td>0.883824</td>\n",
              "      <td>-1.600018</td>\n",
              "      <td>...</td>\n",
              "      <td>0.070912</td>\n",
              "      <td>-0.131493</td>\n",
              "      <td>-0.166022</td>\n",
              "      <td>-0.810120</td>\n",
              "      <td>-0.126137</td>\n",
              "      <td>0.728123</td>\n",
              "      <td>-0.127338</td>\n",
              "      <td>0.033952</td>\n",
              "      <td>2.99</td>\n",
              "      <td>0.0</td>\n",
              "    </tr>\n",
              "    <tr>\n",
              "      <th>19531</th>\n",
              "      <td>30359</td>\n",
              "      <td>-0.574195</td>\n",
              "      <td>0.086990</td>\n",
              "      <td>-0.086064</td>\n",
              "      <td>0.747603</td>\n",
              "      <td>1.137108</td>\n",
              "      <td>4.813820</td>\n",
              "      <td>-0.417345</td>\n",
              "      <td>1.603915</td>\n",
              "      <td>0.347508</td>\n",
              "      <td>...</td>\n",
              "      <td>-0.273816</td>\n",
              "      <td>-0.884486</td>\n",
              "      <td>0.414803</td>\n",
              "      <td>0.976896</td>\n",
              "      <td>-0.018185</td>\n",
              "      <td>-0.458084</td>\n",
              "      <td>-0.045468</td>\n",
              "      <td>-0.019679</td>\n",
              "      <td>165.90</td>\n",
              "      <td>0.0</td>\n",
              "    </tr>\n",
              "    <tr>\n",
              "      <th>24010</th>\n",
              "      <td>33021</td>\n",
              "      <td>-2.123429</td>\n",
              "      <td>-2.232032</td>\n",
              "      <td>0.774248</td>\n",
              "      <td>-0.394580</td>\n",
              "      <td>-2.841878</td>\n",
              "      <td>2.273785</td>\n",
              "      <td>1.443102</td>\n",
              "      <td>-0.115531</td>\n",
              "      <td>-0.064782</td>\n",
              "      <td>...</td>\n",
              "      <td>-0.135442</td>\n",
              "      <td>1.164262</td>\n",
              "      <td>0.851564</td>\n",
              "      <td>-0.720236</td>\n",
              "      <td>-0.014260</td>\n",
              "      <td>0.054618</td>\n",
              "      <td>0.925618</td>\n",
              "      <td>-0.138352</td>\n",
              "      <td>654.60</td>\n",
              "      <td>0.0</td>\n",
              "    </tr>\n",
              "    <tr>\n",
              "      <th>2260</th>\n",
              "      <td>1800</td>\n",
              "      <td>-0.864793</td>\n",
              "      <td>0.886171</td>\n",
              "      <td>1.569223</td>\n",
              "      <td>1.188212</td>\n",
              "      <td>0.269561</td>\n",
              "      <td>0.235837</td>\n",
              "      <td>0.603880</td>\n",
              "      <td>-0.048396</td>\n",
              "      <td>-0.077952</td>\n",
              "      <td>...</td>\n",
              "      <td>-0.006494</td>\n",
              "      <td>0.391874</td>\n",
              "      <td>-0.057058</td>\n",
              "      <td>0.225745</td>\n",
              "      <td>-0.205699</td>\n",
              "      <td>-0.312078</td>\n",
              "      <td>-0.138643</td>\n",
              "      <td>-0.003934</td>\n",
              "      <td>5.71</td>\n",
              "      <td>0.0</td>\n",
              "    </tr>\n",
              "    <tr>\n",
              "      <th>12706</th>\n",
              "      <td>22275</td>\n",
              "      <td>-0.118164</td>\n",
              "      <td>1.538540</td>\n",
              "      <td>0.125054</td>\n",
              "      <td>0.869844</td>\n",
              "      <td>0.735958</td>\n",
              "      <td>-0.789105</td>\n",
              "      <td>1.080944</td>\n",
              "      <td>-0.505354</td>\n",
              "      <td>1.335393</td>\n",
              "      <td>...</td>\n",
              "      <td>-0.163380</td>\n",
              "      <td>0.299649</td>\n",
              "      <td>-0.060769</td>\n",
              "      <td>-0.208430</td>\n",
              "      <td>-0.591124</td>\n",
              "      <td>-0.440016</td>\n",
              "      <td>0.458462</td>\n",
              "      <td>0.115086</td>\n",
              "      <td>0.79</td>\n",
              "      <td>0.0</td>\n",
              "    </tr>\n",
              "    <tr>\n",
              "      <th>...</th>\n",
              "      <td>...</td>\n",
              "      <td>...</td>\n",
              "      <td>...</td>\n",
              "      <td>...</td>\n",
              "      <td>...</td>\n",
              "      <td>...</td>\n",
              "      <td>...</td>\n",
              "      <td>...</td>\n",
              "      <td>...</td>\n",
              "      <td>...</td>\n",
              "      <td>...</td>\n",
              "      <td>...</td>\n",
              "      <td>...</td>\n",
              "      <td>...</td>\n",
              "      <td>...</td>\n",
              "      <td>...</td>\n",
              "      <td>...</td>\n",
              "      <td>...</td>\n",
              "      <td>...</td>\n",
              "      <td>...</td>\n",
              "      <td>...</td>\n",
              "    </tr>\n",
              "    <tr>\n",
              "      <th>30442</th>\n",
              "      <td>35926</td>\n",
              "      <td>-3.896583</td>\n",
              "      <td>4.518355</td>\n",
              "      <td>-4.454027</td>\n",
              "      <td>5.547453</td>\n",
              "      <td>-4.121459</td>\n",
              "      <td>-1.163407</td>\n",
              "      <td>-6.805053</td>\n",
              "      <td>2.928356</td>\n",
              "      <td>-4.917130</td>\n",
              "      <td>...</td>\n",
              "      <td>1.691042</td>\n",
              "      <td>0.920021</td>\n",
              "      <td>-0.151104</td>\n",
              "      <td>0.011007</td>\n",
              "      <td>0.080303</td>\n",
              "      <td>0.412191</td>\n",
              "      <td>0.635789</td>\n",
              "      <td>0.501050</td>\n",
              "      <td>4.56</td>\n",
              "      <td>1.0</td>\n",
              "    </tr>\n",
              "    <tr>\n",
              "      <th>30473</th>\n",
              "      <td>35942</td>\n",
              "      <td>-4.194074</td>\n",
              "      <td>4.382897</td>\n",
              "      <td>-5.118363</td>\n",
              "      <td>4.455230</td>\n",
              "      <td>-4.812621</td>\n",
              "      <td>-1.224645</td>\n",
              "      <td>-7.281328</td>\n",
              "      <td>3.332250</td>\n",
              "      <td>-3.679659</td>\n",
              "      <td>...</td>\n",
              "      <td>1.550473</td>\n",
              "      <td>0.614573</td>\n",
              "      <td>0.028521</td>\n",
              "      <td>0.013704</td>\n",
              "      <td>-0.149512</td>\n",
              "      <td>-0.131687</td>\n",
              "      <td>0.473934</td>\n",
              "      <td>0.473757</td>\n",
              "      <td>14.46</td>\n",
              "      <td>1.0</td>\n",
              "    </tr>\n",
              "    <tr>\n",
              "      <th>30496</th>\n",
              "      <td>35953</td>\n",
              "      <td>-4.844372</td>\n",
              "      <td>5.649439</td>\n",
              "      <td>-6.730396</td>\n",
              "      <td>5.252842</td>\n",
              "      <td>-4.409566</td>\n",
              "      <td>-1.740767</td>\n",
              "      <td>-6.311699</td>\n",
              "      <td>3.449167</td>\n",
              "      <td>-5.416284</td>\n",
              "      <td>...</td>\n",
              "      <td>1.194888</td>\n",
              "      <td>-0.845753</td>\n",
              "      <td>0.190674</td>\n",
              "      <td>-0.216443</td>\n",
              "      <td>-0.325033</td>\n",
              "      <td>-0.270328</td>\n",
              "      <td>0.210214</td>\n",
              "      <td>0.391855</td>\n",
              "      <td>111.70</td>\n",
              "      <td>1.0</td>\n",
              "    </tr>\n",
              "    <tr>\n",
              "      <th>31002</th>\n",
              "      <td>36170</td>\n",
              "      <td>-5.685013</td>\n",
              "      <td>5.776516</td>\n",
              "      <td>-7.064977</td>\n",
              "      <td>5.902715</td>\n",
              "      <td>-4.715564</td>\n",
              "      <td>-1.755633</td>\n",
              "      <td>-6.958679</td>\n",
              "      <td>3.877795</td>\n",
              "      <td>-5.541529</td>\n",
              "      <td>...</td>\n",
              "      <td>1.128641</td>\n",
              "      <td>-0.96296</td>\n",
              "      <td>-0.110045</td>\n",
              "      <td>-0.177733</td>\n",
              "      <td>-0.089175</td>\n",
              "      <td>-0.049447</td>\n",
              "      <td>0.303445</td>\n",
              "      <td>0.219380</td>\n",
              "      <td>111.70</td>\n",
              "      <td>1.0</td>\n",
              "    </tr>\n",
              "    <tr>\n",
              "      <th>33276</th>\n",
              "      <td>37167</td>\n",
              "      <td>-7.923891</td>\n",
              "      <td>-5.198360</td>\n",
              "      <td>-3.000024</td>\n",
              "      <td>4.420666</td>\n",
              "      <td>2.272194</td>\n",
              "      <td>-3.394483</td>\n",
              "      <td>-5.283435</td>\n",
              "      <td>0.131619</td>\n",
              "      <td>0.658176</td>\n",
              "      <td>...</td>\n",
              "      <td>-0.734308</td>\n",
              "      <td>-0.59992625988411</td>\n",
              "      <td>-4.908301</td>\n",
              "      <td>0.410170</td>\n",
              "      <td>-1.167660</td>\n",
              "      <td>0.520508</td>\n",
              "      <td>1.937421</td>\n",
              "      <td>-1.552593</td>\n",
              "      <td>12.31</td>\n",
              "      <td>1.0</td>\n",
              "    </tr>\n",
              "  </tbody>\n",
              "</table>\n",
              "<p>206 rows × 31 columns</p>\n",
              "</div>\n",
              "      <button class=\"colab-df-convert\" onclick=\"convertToInteractive('df-c60e7cad-a772-40a5-94e3-396f704308e8')\"\n",
              "              title=\"Convert this dataframe to an interactive table.\"\n",
              "              style=\"display:none;\">\n",
              "        \n",
              "  <svg xmlns=\"http://www.w3.org/2000/svg\" height=\"24px\"viewBox=\"0 0 24 24\"\n",
              "       width=\"24px\">\n",
              "    <path d=\"M0 0h24v24H0V0z\" fill=\"none\"/>\n",
              "    <path d=\"M18.56 5.44l.94 2.06.94-2.06 2.06-.94-2.06-.94-.94-2.06-.94 2.06-2.06.94zm-11 1L8.5 8.5l.94-2.06 2.06-.94-2.06-.94L8.5 2.5l-.94 2.06-2.06.94zm10 10l.94 2.06.94-2.06 2.06-.94-2.06-.94-.94-2.06-.94 2.06-2.06.94z\"/><path d=\"M17.41 7.96l-1.37-1.37c-.4-.4-.92-.59-1.43-.59-.52 0-1.04.2-1.43.59L10.3 9.45l-7.72 7.72c-.78.78-.78 2.05 0 2.83L4 21.41c.39.39.9.59 1.41.59.51 0 1.02-.2 1.41-.59l7.78-7.78 2.81-2.81c.8-.78.8-2.07 0-2.86zM5.41 20L4 18.59l7.72-7.72 1.47 1.35L5.41 20z\"/>\n",
              "  </svg>\n",
              "      </button>\n",
              "      \n",
              "  <style>\n",
              "    .colab-df-container {\n",
              "      display:flex;\n",
              "      flex-wrap:wrap;\n",
              "      gap: 12px;\n",
              "    }\n",
              "\n",
              "    .colab-df-convert {\n",
              "      background-color: #E8F0FE;\n",
              "      border: none;\n",
              "      border-radius: 50%;\n",
              "      cursor: pointer;\n",
              "      display: none;\n",
              "      fill: #1967D2;\n",
              "      height: 32px;\n",
              "      padding: 0 0 0 0;\n",
              "      width: 32px;\n",
              "    }\n",
              "\n",
              "    .colab-df-convert:hover {\n",
              "      background-color: #E2EBFA;\n",
              "      box-shadow: 0px 1px 2px rgba(60, 64, 67, 0.3), 0px 1px 3px 1px rgba(60, 64, 67, 0.15);\n",
              "      fill: #174EA6;\n",
              "    }\n",
              "\n",
              "    [theme=dark] .colab-df-convert {\n",
              "      background-color: #3B4455;\n",
              "      fill: #D2E3FC;\n",
              "    }\n",
              "\n",
              "    [theme=dark] .colab-df-convert:hover {\n",
              "      background-color: #434B5C;\n",
              "      box-shadow: 0px 1px 3px 1px rgba(0, 0, 0, 0.15);\n",
              "      filter: drop-shadow(0px 1px 2px rgba(0, 0, 0, 0.3));\n",
              "      fill: #FFFFFF;\n",
              "    }\n",
              "  </style>\n",
              "\n",
              "      <script>\n",
              "        const buttonEl =\n",
              "          document.querySelector('#df-c60e7cad-a772-40a5-94e3-396f704308e8 button.colab-df-convert');\n",
              "        buttonEl.style.display =\n",
              "          google.colab.kernel.accessAllowed ? 'block' : 'none';\n",
              "\n",
              "        async function convertToInteractive(key) {\n",
              "          const element = document.querySelector('#df-c60e7cad-a772-40a5-94e3-396f704308e8');\n",
              "          const dataTable =\n",
              "            await google.colab.kernel.invokeFunction('convertToInteractive',\n",
              "                                                     [key], {});\n",
              "          if (!dataTable) return;\n",
              "\n",
              "          const docLinkHtml = 'Like what you see? Visit the ' +\n",
              "            '<a target=\"_blank\" href=https://colab.research.google.com/notebooks/data_table.ipynb>data table notebook</a>'\n",
              "            + ' to learn more about interactive tables.';\n",
              "          element.innerHTML = '';\n",
              "          dataTable['output_type'] = 'display_data';\n",
              "          await google.colab.output.renderOutput(dataTable, element);\n",
              "          const docLink = document.createElement('div');\n",
              "          docLink.innerHTML = docLinkHtml;\n",
              "          element.appendChild(docLink);\n",
              "        }\n",
              "      </script>\n",
              "    </div>\n",
              "  </div>\n",
              "  "
            ]
          },
          "metadata": {},
          "execution_count": 30
        }
      ]
    },
    {
      "cell_type": "code",
      "source": [
        "new_df['Class'].value_counts()"
      ],
      "metadata": {
        "colab": {
          "base_uri": "https://localhost:8080/"
        },
        "id": "1to10qkY_SqO",
        "outputId": "d29224aa-d1a8-415b-b8d3-3c2bbd453b5f"
      },
      "execution_count": null,
      "outputs": [
        {
          "output_type": "execute_result",
          "data": {
            "text/plain": [
              "0.0    103\n",
              "1.0    103\n",
              "Name: Class, dtype: int64"
            ]
          },
          "metadata": {},
          "execution_count": 31
        }
      ]
    },
    {
      "cell_type": "code",
      "source": [
        "new_df.groupby('Class').mean()"
      ],
      "metadata": {
        "colab": {
          "base_uri": "https://localhost:8080/",
          "height": 272
        },
        "id": "S9TsyFxmASb4",
        "outputId": "335f34c0-0e2e-4394-abd8-7fecc8095c2a"
      },
      "execution_count": null,
      "outputs": [
        {
          "output_type": "stream",
          "name": "stderr",
          "text": [
            "<ipython-input-33-a3137bf3fbc9>:1: FutureWarning: The default value of numeric_only in DataFrameGroupBy.mean is deprecated. In a future version, numeric_only will default to False. Either specify numeric_only or select only columns which should be valid for the function.\n",
            "  new_df.groupby('Class').mean()\n"
          ]
        },
        {
          "output_type": "execute_result",
          "data": {
            "text/plain": [
              "               Time        V1        V2         V3        V4        V5  \\\n",
              "Class                                                                    \n",
              "0.0    20819.495146  0.083321  0.070354   0.716221  0.170571 -0.205042   \n",
              "1.0    20498.291262 -7.762676  5.838647 -10.957218  5.911555 -5.453798   \n",
              "\n",
              "             V6       V7       V8        V9  ...       V19       V20  \\\n",
              "Class                                        ...                       \n",
              "0.0    0.130240 -0.03592  0.08264  0.275655  ... -0.056236 -0.007893   \n",
              "1.0   -2.306085 -7.74310  3.86792 -2.961800  ...  0.477900  0.652319   \n",
              "\n",
              "            V21       V23       V24       V25       V26       V27       V28  \\\n",
              "Class                                                                         \n",
              "0.0   -0.057747 -0.060145 -0.013015  0.144462 -0.003415  0.023621  0.028538   \n",
              "1.0    0.628539 -0.362138 -0.234731  0.300023  0.180390  0.822304  0.102481   \n",
              "\n",
              "          Amount  \n",
              "Class             \n",
              "0.0    82.295437  \n",
              "1.0    90.471165  \n",
              "\n",
              "[2 rows x 29 columns]"
            ],
            "text/html": [
              "\n",
              "  <div id=\"df-04f06650-472e-4792-a18b-dc0c7f11e477\">\n",
              "    <div class=\"colab-df-container\">\n",
              "      <div>\n",
              "<style scoped>\n",
              "    .dataframe tbody tr th:only-of-type {\n",
              "        vertical-align: middle;\n",
              "    }\n",
              "\n",
              "    .dataframe tbody tr th {\n",
              "        vertical-align: top;\n",
              "    }\n",
              "\n",
              "    .dataframe thead th {\n",
              "        text-align: right;\n",
              "    }\n",
              "</style>\n",
              "<table border=\"1\" class=\"dataframe\">\n",
              "  <thead>\n",
              "    <tr style=\"text-align: right;\">\n",
              "      <th></th>\n",
              "      <th>Time</th>\n",
              "      <th>V1</th>\n",
              "      <th>V2</th>\n",
              "      <th>V3</th>\n",
              "      <th>V4</th>\n",
              "      <th>V5</th>\n",
              "      <th>V6</th>\n",
              "      <th>V7</th>\n",
              "      <th>V8</th>\n",
              "      <th>V9</th>\n",
              "      <th>...</th>\n",
              "      <th>V19</th>\n",
              "      <th>V20</th>\n",
              "      <th>V21</th>\n",
              "      <th>V23</th>\n",
              "      <th>V24</th>\n",
              "      <th>V25</th>\n",
              "      <th>V26</th>\n",
              "      <th>V27</th>\n",
              "      <th>V28</th>\n",
              "      <th>Amount</th>\n",
              "    </tr>\n",
              "    <tr>\n",
              "      <th>Class</th>\n",
              "      <th></th>\n",
              "      <th></th>\n",
              "      <th></th>\n",
              "      <th></th>\n",
              "      <th></th>\n",
              "      <th></th>\n",
              "      <th></th>\n",
              "      <th></th>\n",
              "      <th></th>\n",
              "      <th></th>\n",
              "      <th></th>\n",
              "      <th></th>\n",
              "      <th></th>\n",
              "      <th></th>\n",
              "      <th></th>\n",
              "      <th></th>\n",
              "      <th></th>\n",
              "      <th></th>\n",
              "      <th></th>\n",
              "      <th></th>\n",
              "      <th></th>\n",
              "    </tr>\n",
              "  </thead>\n",
              "  <tbody>\n",
              "    <tr>\n",
              "      <th>0.0</th>\n",
              "      <td>20819.495146</td>\n",
              "      <td>0.083321</td>\n",
              "      <td>0.070354</td>\n",
              "      <td>0.716221</td>\n",
              "      <td>0.170571</td>\n",
              "      <td>-0.205042</td>\n",
              "      <td>0.130240</td>\n",
              "      <td>-0.03592</td>\n",
              "      <td>0.08264</td>\n",
              "      <td>0.275655</td>\n",
              "      <td>...</td>\n",
              "      <td>-0.056236</td>\n",
              "      <td>-0.007893</td>\n",
              "      <td>-0.057747</td>\n",
              "      <td>-0.060145</td>\n",
              "      <td>-0.013015</td>\n",
              "      <td>0.144462</td>\n",
              "      <td>-0.003415</td>\n",
              "      <td>0.023621</td>\n",
              "      <td>0.028538</td>\n",
              "      <td>82.295437</td>\n",
              "    </tr>\n",
              "    <tr>\n",
              "      <th>1.0</th>\n",
              "      <td>20498.291262</td>\n",
              "      <td>-7.762676</td>\n",
              "      <td>5.838647</td>\n",
              "      <td>-10.957218</td>\n",
              "      <td>5.911555</td>\n",
              "      <td>-5.453798</td>\n",
              "      <td>-2.306085</td>\n",
              "      <td>-7.74310</td>\n",
              "      <td>3.86792</td>\n",
              "      <td>-2.961800</td>\n",
              "      <td>...</td>\n",
              "      <td>0.477900</td>\n",
              "      <td>0.652319</td>\n",
              "      <td>0.628539</td>\n",
              "      <td>-0.362138</td>\n",
              "      <td>-0.234731</td>\n",
              "      <td>0.300023</td>\n",
              "      <td>0.180390</td>\n",
              "      <td>0.822304</td>\n",
              "      <td>0.102481</td>\n",
              "      <td>90.471165</td>\n",
              "    </tr>\n",
              "  </tbody>\n",
              "</table>\n",
              "<p>2 rows × 29 columns</p>\n",
              "</div>\n",
              "      <button class=\"colab-df-convert\" onclick=\"convertToInteractive('df-04f06650-472e-4792-a18b-dc0c7f11e477')\"\n",
              "              title=\"Convert this dataframe to an interactive table.\"\n",
              "              style=\"display:none;\">\n",
              "        \n",
              "  <svg xmlns=\"http://www.w3.org/2000/svg\" height=\"24px\"viewBox=\"0 0 24 24\"\n",
              "       width=\"24px\">\n",
              "    <path d=\"M0 0h24v24H0V0z\" fill=\"none\"/>\n",
              "    <path d=\"M18.56 5.44l.94 2.06.94-2.06 2.06-.94-2.06-.94-.94-2.06-.94 2.06-2.06.94zm-11 1L8.5 8.5l.94-2.06 2.06-.94-2.06-.94L8.5 2.5l-.94 2.06-2.06.94zm10 10l.94 2.06.94-2.06 2.06-.94-2.06-.94-.94-2.06-.94 2.06-2.06.94z\"/><path d=\"M17.41 7.96l-1.37-1.37c-.4-.4-.92-.59-1.43-.59-.52 0-1.04.2-1.43.59L10.3 9.45l-7.72 7.72c-.78.78-.78 2.05 0 2.83L4 21.41c.39.39.9.59 1.41.59.51 0 1.02-.2 1.41-.59l7.78-7.78 2.81-2.81c.8-.78.8-2.07 0-2.86zM5.41 20L4 18.59l7.72-7.72 1.47 1.35L5.41 20z\"/>\n",
              "  </svg>\n",
              "      </button>\n",
              "      \n",
              "  <style>\n",
              "    .colab-df-container {\n",
              "      display:flex;\n",
              "      flex-wrap:wrap;\n",
              "      gap: 12px;\n",
              "    }\n",
              "\n",
              "    .colab-df-convert {\n",
              "      background-color: #E8F0FE;\n",
              "      border: none;\n",
              "      border-radius: 50%;\n",
              "      cursor: pointer;\n",
              "      display: none;\n",
              "      fill: #1967D2;\n",
              "      height: 32px;\n",
              "      padding: 0 0 0 0;\n",
              "      width: 32px;\n",
              "    }\n",
              "\n",
              "    .colab-df-convert:hover {\n",
              "      background-color: #E2EBFA;\n",
              "      box-shadow: 0px 1px 2px rgba(60, 64, 67, 0.3), 0px 1px 3px 1px rgba(60, 64, 67, 0.15);\n",
              "      fill: #174EA6;\n",
              "    }\n",
              "\n",
              "    [theme=dark] .colab-df-convert {\n",
              "      background-color: #3B4455;\n",
              "      fill: #D2E3FC;\n",
              "    }\n",
              "\n",
              "    [theme=dark] .colab-df-convert:hover {\n",
              "      background-color: #434B5C;\n",
              "      box-shadow: 0px 1px 3px 1px rgba(0, 0, 0, 0.15);\n",
              "      filter: drop-shadow(0px 1px 2px rgba(0, 0, 0, 0.3));\n",
              "      fill: #FFFFFF;\n",
              "    }\n",
              "  </style>\n",
              "\n",
              "      <script>\n",
              "        const buttonEl =\n",
              "          document.querySelector('#df-04f06650-472e-4792-a18b-dc0c7f11e477 button.colab-df-convert');\n",
              "        buttonEl.style.display =\n",
              "          google.colab.kernel.accessAllowed ? 'block' : 'none';\n",
              "\n",
              "        async function convertToInteractive(key) {\n",
              "          const element = document.querySelector('#df-04f06650-472e-4792-a18b-dc0c7f11e477');\n",
              "          const dataTable =\n",
              "            await google.colab.kernel.invokeFunction('convertToInteractive',\n",
              "                                                     [key], {});\n",
              "          if (!dataTable) return;\n",
              "\n",
              "          const docLinkHtml = 'Like what you see? Visit the ' +\n",
              "            '<a target=\"_blank\" href=https://colab.research.google.com/notebooks/data_table.ipynb>data table notebook</a>'\n",
              "            + ' to learn more about interactive tables.';\n",
              "          element.innerHTML = '';\n",
              "          dataTable['output_type'] = 'display_data';\n",
              "          await google.colab.output.renderOutput(dataTable, element);\n",
              "          const docLink = document.createElement('div');\n",
              "          docLink.innerHTML = docLinkHtml;\n",
              "          element.appendChild(docLink);\n",
              "        }\n",
              "      </script>\n",
              "    </div>\n",
              "  </div>\n",
              "  "
            ]
          },
          "metadata": {},
          "execution_count": 33
        }
      ]
    },
    {
      "cell_type": "markdown",
      "source": [
        "mean is almost same ->good data"
      ],
      "metadata": {
        "id": "vh-LB-AOBGxN"
      }
    },
    {
      "cell_type": "markdown",
      "source": [
        "split data into features and labels"
      ],
      "metadata": {
        "id": "mRKGumLQBLLz"
      }
    },
    {
      "cell_type": "code",
      "source": [
        "X=new_df.drop(columns='Class',axis=1)"
      ],
      "metadata": {
        "id": "UyyDe2sQAciC"
      },
      "execution_count": null,
      "outputs": []
    },
    {
      "cell_type": "code",
      "source": [
        "Y=new_df['Class']"
      ],
      "metadata": {
        "id": "X6zBQ95uBasf"
      },
      "execution_count": null,
      "outputs": []
    },
    {
      "cell_type": "code",
      "source": [
        "print(X)"
      ],
      "metadata": {
        "colab": {
          "base_uri": "https://localhost:8080/"
        },
        "id": "b3DwrdElBe8R",
        "outputId": "763e28fa-e3e5-4a23-9e6f-49ec0b495ea9"
      },
      "execution_count": null,
      "outputs": [
        {
          "output_type": "stream",
          "name": "stdout",
          "text": [
            "        Time        V1        V2        V3        V4        V5        V6  \\\n",
            "28036  34821 -1.340462  1.735358 -0.017475  0.115988  0.521309 -0.120713   \n",
            "19531  30359 -0.574195  0.086990 -0.086064  0.747603  1.137108  4.813820   \n",
            "24010  33021 -2.123429 -2.232032  0.774248 -0.394580 -2.841878  2.273785   \n",
            "2260    1800 -0.864793  0.886171  1.569223  1.188212  0.269561  0.235837   \n",
            "12706  22275 -0.118164  1.538540  0.125054  0.869844  0.735958 -0.789105   \n",
            "...      ...       ...       ...       ...       ...       ...       ...   \n",
            "30442  35926 -3.896583  4.518355 -4.454027  5.547453 -4.121459 -1.163407   \n",
            "30473  35942 -4.194074  4.382897 -5.118363  4.455230 -4.812621 -1.224645   \n",
            "30496  35953 -4.844372  5.649439 -6.730396  5.252842 -4.409566 -1.740767   \n",
            "31002  36170 -5.685013  5.776516 -7.064977  5.902715 -4.715564 -1.755633   \n",
            "33276  37167 -7.923891 -5.198360 -3.000024  4.420666  2.272194 -3.394483   \n",
            "\n",
            "             V7        V8        V9  ...       V20       V21  \\\n",
            "28036  0.295125  0.883824 -1.600018  ... -0.216155  0.070912   \n",
            "19531 -0.417345  1.603915  0.347508  ...  0.317855 -0.273816   \n",
            "24010  1.443102 -0.115531 -0.064782  ... -0.530549 -0.135442   \n",
            "2260   0.603880 -0.048396 -0.077952  ...  0.038466 -0.006494   \n",
            "12706  1.080944 -0.505354  1.335393  ...  0.343591 -0.163380   \n",
            "...         ...       ...       ...  ...       ...       ...   \n",
            "30442 -6.805053  2.928356 -4.917130  ...  0.757287  1.691042   \n",
            "30473 -7.281328  3.332250 -3.679659  ...  0.579098  1.550473   \n",
            "30496 -6.311699  3.449167 -5.416284  ...  0.284555  1.194888   \n",
            "31002 -6.958679  3.877795 -5.541529  ...  0.299489  1.128641   \n",
            "33276 -5.283435  0.131619  0.658176  ... -2.169811 -0.734308   \n",
            "\n",
            "                     V22       V23       V24       V25       V26       V27  \\\n",
            "28036          -0.131493 -0.166022 -0.810120 -0.126137  0.728123 -0.127338   \n",
            "19531          -0.884486  0.414803  0.976896 -0.018185 -0.458084 -0.045468   \n",
            "24010           1.164262  0.851564 -0.720236 -0.014260  0.054618  0.925618   \n",
            "2260            0.391874 -0.057058  0.225745 -0.205699 -0.312078 -0.138643   \n",
            "12706           0.299649 -0.060769 -0.208430 -0.591124 -0.440016  0.458462   \n",
            "...                  ...       ...       ...       ...       ...       ...   \n",
            "30442           0.920021 -0.151104  0.011007  0.080303  0.412191  0.635789   \n",
            "30473           0.614573  0.028521  0.013704 -0.149512 -0.131687  0.473934   \n",
            "30496          -0.845753  0.190674 -0.216443 -0.325033 -0.270328  0.210214   \n",
            "31002           -0.96296 -0.110045 -0.177733 -0.089175 -0.049447  0.303445   \n",
            "33276  -0.59992625988411 -4.908301  0.410170 -1.167660  0.520508  1.937421   \n",
            "\n",
            "            V28  Amount  \n",
            "28036  0.033952    2.99  \n",
            "19531 -0.019679  165.90  \n",
            "24010 -0.138352  654.60  \n",
            "2260  -0.003934    5.71  \n",
            "12706  0.115086    0.79  \n",
            "...         ...     ...  \n",
            "30442  0.501050    4.56  \n",
            "30473  0.473757   14.46  \n",
            "30496  0.391855  111.70  \n",
            "31002  0.219380  111.70  \n",
            "33276 -1.552593   12.31  \n",
            "\n",
            "[206 rows x 30 columns]\n"
          ]
        }
      ]
    },
    {
      "cell_type": "code",
      "source": [
        "print(Y)"
      ],
      "metadata": {
        "colab": {
          "base_uri": "https://localhost:8080/"
        },
        "id": "pAhtyXJXBg83",
        "outputId": "0b7f7ee2-9566-4808-f25d-7a76c07023d1"
      },
      "execution_count": null,
      "outputs": [
        {
          "output_type": "stream",
          "name": "stdout",
          "text": [
            "28036    0.0\n",
            "19531    0.0\n",
            "24010    0.0\n",
            "2260     0.0\n",
            "12706    0.0\n",
            "        ... \n",
            "30442    1.0\n",
            "30473    1.0\n",
            "30496    1.0\n",
            "31002    1.0\n",
            "33276    1.0\n",
            "Name: Class, Length: 206, dtype: float64\n"
          ]
        }
      ]
    },
    {
      "cell_type": "markdown",
      "source": [
        "Split into train and test data"
      ],
      "metadata": {
        "id": "jkQVkWJEBnOX"
      }
    },
    {
      "cell_type": "code",
      "source": [
        "X_train,X_test,Y_train,Y_test=train_test_split(X,Y,test_size=0.2,stratify=Y,random_state=2)"
      ],
      "metadata": {
        "id": "bKYSb3eKBlzD"
      },
      "execution_count": null,
      "outputs": []
    },
    {
      "cell_type": "markdown",
      "source": [
        "Stratified sampling is a sampling technique where the samples are selected in the same proportion (by dividing the population into groups called 'strata' based on a characteristic) as they appear in the population."
      ],
      "metadata": {
        "id": "nf6QJFPYCRRL"
      }
    },
    {
      "cell_type": "code",
      "source": [
        "print(X_train.shape,X_test.shape)"
      ],
      "metadata": {
        "colab": {
          "base_uri": "https://localhost:8080/"
        },
        "id": "8RQM99DyCQiH",
        "outputId": "2130b923-b2be-4b67-d32f-5e04236868a2"
      },
      "execution_count": null,
      "outputs": [
        {
          "output_type": "stream",
          "name": "stdout",
          "text": [
            "(164, 30) (42, 30)\n"
          ]
        }
      ]
    },
    {
      "cell_type": "markdown",
      "source": [
        "we use logistic regression for binary classification mostly"
      ],
      "metadata": {
        "id": "1tH-XxKSCgdX"
      }
    },
    {
      "cell_type": "code",
      "source": [
        "model=LogisticRegression()"
      ],
      "metadata": {
        "id": "KP_kW64GCelW"
      },
      "execution_count": null,
      "outputs": []
    },
    {
      "cell_type": "markdown",
      "source": [
        "train model w X_train"
      ],
      "metadata": {
        "id": "MoZJxTbwCp3j"
      }
    },
    {
      "cell_type": "code",
      "source": [
        "model.fit(X_train,Y_train)"
      ],
      "metadata": {
        "colab": {
          "base_uri": "https://localhost:8080/",
          "height": 234
        },
        "id": "Gfw5VLonCoa_",
        "outputId": "205c16b0-0169-4920-d0ea-3dc06f334fd1"
      },
      "execution_count": null,
      "outputs": [
        {
          "output_type": "stream",
          "name": "stderr",
          "text": [
            "/usr/local/lib/python3.10/dist-packages/sklearn/linear_model/_logistic.py:458: ConvergenceWarning: lbfgs failed to converge (status=1):\n",
            "STOP: TOTAL NO. of ITERATIONS REACHED LIMIT.\n",
            "\n",
            "Increase the number of iterations (max_iter) or scale the data as shown in:\n",
            "    https://scikit-learn.org/stable/modules/preprocessing.html\n",
            "Please also refer to the documentation for alternative solver options:\n",
            "    https://scikit-learn.org/stable/modules/linear_model.html#logistic-regression\n",
            "  n_iter_i = _check_optimize_result(\n"
          ]
        },
        {
          "output_type": "execute_result",
          "data": {
            "text/plain": [
              "LogisticRegression()"
            ],
            "text/html": [
              "<style>#sk-container-id-1 {color: black;background-color: white;}#sk-container-id-1 pre{padding: 0;}#sk-container-id-1 div.sk-toggleable {background-color: white;}#sk-container-id-1 label.sk-toggleable__label {cursor: pointer;display: block;width: 100%;margin-bottom: 0;padding: 0.3em;box-sizing: border-box;text-align: center;}#sk-container-id-1 label.sk-toggleable__label-arrow:before {content: \"▸\";float: left;margin-right: 0.25em;color: #696969;}#sk-container-id-1 label.sk-toggleable__label-arrow:hover:before {color: black;}#sk-container-id-1 div.sk-estimator:hover label.sk-toggleable__label-arrow:before {color: black;}#sk-container-id-1 div.sk-toggleable__content {max-height: 0;max-width: 0;overflow: hidden;text-align: left;background-color: #f0f8ff;}#sk-container-id-1 div.sk-toggleable__content pre {margin: 0.2em;color: black;border-radius: 0.25em;background-color: #f0f8ff;}#sk-container-id-1 input.sk-toggleable__control:checked~div.sk-toggleable__content {max-height: 200px;max-width: 100%;overflow: auto;}#sk-container-id-1 input.sk-toggleable__control:checked~label.sk-toggleable__label-arrow:before {content: \"▾\";}#sk-container-id-1 div.sk-estimator input.sk-toggleable__control:checked~label.sk-toggleable__label {background-color: #d4ebff;}#sk-container-id-1 div.sk-label input.sk-toggleable__control:checked~label.sk-toggleable__label {background-color: #d4ebff;}#sk-container-id-1 input.sk-hidden--visually {border: 0;clip: rect(1px 1px 1px 1px);clip: rect(1px, 1px, 1px, 1px);height: 1px;margin: -1px;overflow: hidden;padding: 0;position: absolute;width: 1px;}#sk-container-id-1 div.sk-estimator {font-family: monospace;background-color: #f0f8ff;border: 1px dotted black;border-radius: 0.25em;box-sizing: border-box;margin-bottom: 0.5em;}#sk-container-id-1 div.sk-estimator:hover {background-color: #d4ebff;}#sk-container-id-1 div.sk-parallel-item::after {content: \"\";width: 100%;border-bottom: 1px solid gray;flex-grow: 1;}#sk-container-id-1 div.sk-label:hover label.sk-toggleable__label {background-color: #d4ebff;}#sk-container-id-1 div.sk-serial::before {content: \"\";position: absolute;border-left: 1px solid gray;box-sizing: border-box;top: 0;bottom: 0;left: 50%;z-index: 0;}#sk-container-id-1 div.sk-serial {display: flex;flex-direction: column;align-items: center;background-color: white;padding-right: 0.2em;padding-left: 0.2em;position: relative;}#sk-container-id-1 div.sk-item {position: relative;z-index: 1;}#sk-container-id-1 div.sk-parallel {display: flex;align-items: stretch;justify-content: center;background-color: white;position: relative;}#sk-container-id-1 div.sk-item::before, #sk-container-id-1 div.sk-parallel-item::before {content: \"\";position: absolute;border-left: 1px solid gray;box-sizing: border-box;top: 0;bottom: 0;left: 50%;z-index: -1;}#sk-container-id-1 div.sk-parallel-item {display: flex;flex-direction: column;z-index: 1;position: relative;background-color: white;}#sk-container-id-1 div.sk-parallel-item:first-child::after {align-self: flex-end;width: 50%;}#sk-container-id-1 div.sk-parallel-item:last-child::after {align-self: flex-start;width: 50%;}#sk-container-id-1 div.sk-parallel-item:only-child::after {width: 0;}#sk-container-id-1 div.sk-dashed-wrapped {border: 1px dashed gray;margin: 0 0.4em 0.5em 0.4em;box-sizing: border-box;padding-bottom: 0.4em;background-color: white;}#sk-container-id-1 div.sk-label label {font-family: monospace;font-weight: bold;display: inline-block;line-height: 1.2em;}#sk-container-id-1 div.sk-label-container {text-align: center;}#sk-container-id-1 div.sk-container {/* jupyter's `normalize.less` sets `[hidden] { display: none; }` but bootstrap.min.css set `[hidden] { display: none !important; }` so we also need the `!important` here to be able to override the default hidden behavior on the sphinx rendered scikit-learn.org. See: https://github.com/scikit-learn/scikit-learn/issues/21755 */display: inline-block !important;position: relative;}#sk-container-id-1 div.sk-text-repr-fallback {display: none;}</style><div id=\"sk-container-id-1\" class=\"sk-top-container\"><div class=\"sk-text-repr-fallback\"><pre>LogisticRegression()</pre><b>In a Jupyter environment, please rerun this cell to show the HTML representation or trust the notebook. <br />On GitHub, the HTML representation is unable to render, please try loading this page with nbviewer.org.</b></div><div class=\"sk-container\" hidden><div class=\"sk-item\"><div class=\"sk-estimator sk-toggleable\"><input class=\"sk-toggleable__control sk-hidden--visually\" id=\"sk-estimator-id-1\" type=\"checkbox\" checked><label for=\"sk-estimator-id-1\" class=\"sk-toggleable__label sk-toggleable__label-arrow\">LogisticRegression</label><div class=\"sk-toggleable__content\"><pre>LogisticRegression()</pre></div></div></div></div></div>"
            ]
          },
          "metadata": {},
          "execution_count": 42
        }
      ]
    },
    {
      "cell_type": "markdown",
      "source": [
        "model evaluation based on accuracy score"
      ],
      "metadata": {
        "id": "ZOHMNXVQC6N0"
      }
    },
    {
      "cell_type": "markdown",
      "source": [
        "accuracy on training data "
      ],
      "metadata": {
        "id": "ESkX7pxDDGQn"
      }
    },
    {
      "cell_type": "code",
      "source": [
        "X_train_prediction=model.predict(X_train)\n",
        "training_data_accuracy=accuracy_score(X_train_prediction,Y_train)\n",
        "print(training_data_accuracy)"
      ],
      "metadata": {
        "colab": {
          "base_uri": "https://localhost:8080/"
        },
        "id": "3-TrCRZZCxUk",
        "outputId": "d46a6fe5-cb6a-4b2e-c282-71a3af5d08d4"
      },
      "execution_count": null,
      "outputs": [
        {
          "output_type": "stream",
          "name": "stdout",
          "text": [
            "0.975609756097561\n"
          ]
        }
      ]
    },
    {
      "cell_type": "markdown",
      "source": [
        "vvv nice accuracy ( out of 100 inputs model can predict 97 correctly)"
      ],
      "metadata": {
        "id": "4JteXaPuDnyx"
      }
    },
    {
      "cell_type": "markdown",
      "source": [
        "accuracy on test data"
      ],
      "metadata": {
        "id": "OOAkToGpD2zf"
      }
    },
    {
      "cell_type": "code",
      "source": [
        "X_test_prediction=model.predict(X_test)\n",
        "testing_data_accuracy=accuracy_score(X_test_prediction,Y_test)\n",
        "print(testing_data_accuracy)\n"
      ],
      "metadata": {
        "colab": {
          "base_uri": "https://localhost:8080/"
        },
        "id": "B6R6XRLbDmSC",
        "outputId": "a4c935dd-b733-4dbf-dd34-d415ae35ca97"
      },
      "execution_count": null,
      "outputs": [
        {
          "output_type": "stream",
          "name": "stdout",
          "text": [
            "0.9761904761904762\n"
          ]
        }
      ]
    },
    {
      "cell_type": "markdown",
      "source": [
        "if the difference between accuracy on training and testing data is too much then 2 things can happen\n",
        "\n",
        "1. over-fiiting -> Overfitting means that your model makes not accurate predictions. In this case, train error is very small and val/test error is large.\n",
        "2. under-fitting -> Underfitting means that your model makes accurate, but initially incorrect predictions. In this case, train error is large and val/test error is large too."
      ],
      "metadata": {
        "id": "gDSMwwuOEXX4"
      }
    },
    {
      "cell_type": "code",
      "source": [],
      "metadata": {
        "id": "bEIFp9DqD91Z"
      },
      "execution_count": null,
      "outputs": []
    }
  ]
}